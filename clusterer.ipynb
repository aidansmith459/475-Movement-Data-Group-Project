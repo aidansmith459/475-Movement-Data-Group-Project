{
 "cells": [
  {
   "cell_type": "markdown",
   "metadata": {},
   "source": [
    "<h1> Notebook showing the clustering of data id \"IOOO\" on 2020-01-01 </h1>"
   ]
  },
  {
   "cell_type": "markdown",
   "metadata": {},
   "source": [
    "<h3> Documentation for hdbscan library in python: </h3>\n",
    "<a> https://cran.r-project.org/web/packages/dbscan/vignettes/hdbscan.html </a>"
   ]
  },
  {
   "cell_type": "code",
   "execution_count": 170,
   "metadata": {},
   "outputs": [],
   "source": [
    "# import libraries needed\n",
    "import pandas as pd\n",
    "import hdbscan\n",
    "# import matplotlib.pyplot as plt\n",
    "# import seaborn as sns\n",
    "# from sklearn.preprocessing import StandardScaler\n"
   ]
  },
  {
   "cell_type": "code",
   "execution_count": 154,
   "metadata": {},
   "outputs": [
    {
     "name": "stdout",
     "output_type": "stream",
     "text": [
      "          id   longitude   latitude        date      time\n",
      "0       I000 -122.335167  47.608013  2020-01-01  00:00:00\n",
      "1       I000 -122.335168  47.608002  2020-01-01  00:01:07\n",
      "2       I000 -122.335169  47.608598  2020-01-01  00:02:30\n",
      "3       I000 -122.335168  47.608501  2020-01-01  00:03:40\n",
      "4       I000 -122.335169  47.607648  2020-01-01  00:05:07\n",
      "...      ...         ...        ...         ...       ...\n",
      "526483  I000 -122.426741  47.572358  2020-12-30  23:56:41\n",
      "526484  I000 -122.426741  47.572356  2020-12-30  23:57:14\n",
      "526485  I000 -122.426741  47.572213  2020-12-30  23:58:03\n",
      "526486  I000 -122.316388  47.618509  2020-12-30  23:59:13\n",
      "526487  I000 -122.316388  47.617609  2020-12-31  00:00:26\n",
      "\n",
      "[526488 rows x 5 columns]\n"
     ]
    }
   ],
   "source": [
    "# load data\n",
    "user0_df = pd.read_csv(\"./CleanData/movements_0.csv\")\n",
    "\n",
    "print(user0_df)"
   ]
  },
  {
   "cell_type": "code",
   "execution_count": 155,
   "metadata": {},
   "outputs": [
    {
     "name": "stdout",
     "output_type": "stream",
     "text": [
      "        id   longitude   latitude        date      time\n",
      "0     I000 -122.335167  47.608013  2020-01-01  00:00:00\n",
      "1     I000 -122.335168  47.608002  2020-01-01  00:01:07\n",
      "2     I000 -122.335169  47.608598  2020-01-01  00:02:30\n",
      "3     I000 -122.335168  47.608501  2020-01-01  00:03:40\n",
      "4     I000 -122.335169  47.607648  2020-01-01  00:05:07\n",
      "...    ...         ...        ...         ...       ...\n",
      "1442  I000 -122.381754  47.543701  2020-01-01  23:55:41\n",
      "1443  I000 -122.381754  47.543135  2020-01-01  23:56:38\n",
      "1444  I000 -122.381754  47.543680  2020-01-01  23:57:26\n",
      "1445  I000 -122.381754  47.543708  2020-01-01  23:58:39\n",
      "1446  I000 -122.381755  47.543255  2020-01-01  23:59:29\n",
      "\n",
      "[1447 rows x 5 columns]\n"
     ]
    }
   ],
   "source": [
    "# let's start off with just the first day of data\n",
    "first_day = user0_df[user0_df[\"date\"]==\"2020-01-01\"]\n",
    "print(first_day)"
   ]
  },
  {
   "cell_type": "markdown",
   "metadata": {},
   "source": [
    "<h2> How accurate does lat long need to be? Can we round? </h2>\n",
    "<p> So, as you can see from the table below, a lat/long rounded up to a single decimal place can accurately identify a country or region, whereas rounded up to two could identify a large city or district. But five decimal places can accurately hone in on an individual tree, and six can identify a person. </p>\n",
    "<a> https://blis.com/precision-matters-critical-importance-decimal-places-five-lowest-go/ </a>\n",
    "<p> Therefore; we can round down to 4 if needed as it \"Can identify an individual street or parcel of land\" and has a distance of 11.1 meters. </p>"
   ]
  },
  {
   "cell_type": "code",
   "execution_count": 156,
   "metadata": {},
   "outputs": [],
   "source": [
    "def filter_travel_points(df, freq):\n",
    "    # round to 4 decimal places\n",
    "    rounded_df = df[[\"longitude\", \"latitude\"]].round(4)\n",
    "    rounded_df[[\"id\",\"date\",\"time\"]] = df[[\"id\",\"date\",\"time\"]]\n",
    "\n",
    "    # group by (latitude,longitude) points to see most visited streets/parcels of land of about 11m in distance\n",
    "    grouped_df = rounded_df.groupby([\"longitude\", \"latitude\"]).count().reset_index().sort_values(\"id\")\n",
    "    \n",
    "    # keep only the points with occurrence > freq\n",
    "    filtered_df = grouped_df[grouped_df[\"id\"]>freq]\n",
    "\n",
    "    # merge filtered with rounded\n",
    "    merged1 = pd.merge(rounded_df, filtered_df, on=[\"latitude\",\"longitude\"])\n",
    "    # remove unnecessary columns\n",
    "    merged1 = merged1.drop([\"id_x\", \"id_y\",\"date_y\", \"time_y\", \"longitude\", \"latitude\"], axis=1)\n",
    "    \n",
    "    # merge original df with filtered to keep only the points with occurrence > 5\n",
    "    merged2 = pd.merge(df, merged1, left_on=[\"date\",\"time\"], right_on=[\"date_x\",\"time_x\"])\n",
    "    # remove unnecessary columns (repeats)\n",
    "    merged2 = merged2.drop([\"date_x\", \"time_x\"], axis=1)\n",
    "\n",
    "    return merged2\n",
    "\n"
   ]
  },
  {
   "cell_type": "code",
   "execution_count": 157,
   "metadata": {},
   "outputs": [
    {
     "name": "stdout",
     "output_type": "stream",
     "text": [
      "       id   longitude   latitude        date      time\n",
      "0    I000 -122.374718  47.593698  2020-01-01  00:38:02\n",
      "1    I000 -122.374718  47.593727  2020-01-01  00:38:42\n",
      "2    I000 -122.374718  47.594143  2020-01-01  00:43:52\n",
      "3    I000 -122.374718  47.593698  2020-01-01  02:13:39\n",
      "4    I000 -122.333503  47.670401  2020-01-01  05:37:20\n",
      "..    ...         ...        ...         ...       ...\n",
      "150  I000 -122.333502  47.670388  2020-01-01  23:13:09\n",
      "151  I000 -122.333503  47.670426  2020-01-01  23:13:45\n",
      "152  I000 -122.333503  47.670419  2020-01-01  23:16:22\n",
      "153  I000 -122.333503  47.670392  2020-01-01  23:17:02\n",
      "154  I000 -122.333503  47.670391  2020-01-01  23:17:45\n",
      "\n",
      "[155 rows x 5 columns]\n"
     ]
    }
   ],
   "source": [
    "\n",
    "# filter df and check results\n",
    "filtered_df = filter_travel_points(first_day, 6)\n",
    "print(filtered_df)"
   ]
  },
  {
   "cell_type": "code",
   "execution_count": 158,
   "metadata": {},
   "outputs": [],
   "source": [
    "# save filtered data to csv\n",
    "filtered_df.to_csv(\"./FilteredData/round_filtered_0.csv\", index=False)"
   ]
  },
  {
   "cell_type": "code",
   "execution_count": 159,
   "metadata": {},
   "outputs": [],
   "source": [
    "# create clusterer\n",
    "clusterer = hdbscan.HDBSCAN(min_cluster_size=15)"
   ]
  },
  {
   "cell_type": "code",
   "execution_count": 160,
   "metadata": {},
   "outputs": [],
   "source": [
    "def create_clusters(df):\n",
    "    scaler = StandardScaler()\n",
    "    points = df[[\"longitude\", \"latitude\"]]\n",
    "    scaled_df = scaler.fit_transform(points)\n",
    "\n",
    "    # labels assigns each point to a cluster\n",
    "    labels = clusterer.fit_predict(scaled_df)\n",
    "\n",
    "    # add the clusters to the df\n",
    "    result = df\n",
    "    result[\"cluster_label\"] = labels\n",
    "\n",
    "    return result\n"
   ]
  },
  {
   "cell_type": "code",
   "execution_count": 161,
   "metadata": {},
   "outputs": [
    {
     "name": "stdout",
     "output_type": "stream",
     "text": [
      "       id   longitude   latitude        date      time  cluster_label\n",
      "0    I000 -122.374718  47.593698  2020-01-01  00:38:02              0\n",
      "1    I000 -122.374718  47.593727  2020-01-01  00:38:42              0\n",
      "2    I000 -122.374718  47.594143  2020-01-01  00:43:52              0\n",
      "3    I000 -122.374718  47.593698  2020-01-01  02:13:39              0\n",
      "4    I000 -122.333503  47.670401  2020-01-01  05:37:20             -1\n",
      "..    ...         ...        ...         ...       ...            ...\n",
      "150  I000 -122.333502  47.670388  2020-01-01  23:13:09             -1\n",
      "151  I000 -122.333503  47.670426  2020-01-01  23:13:45             -1\n",
      "152  I000 -122.333503  47.670419  2020-01-01  23:16:22             -1\n",
      "153  I000 -122.333503  47.670392  2020-01-01  23:17:02             -1\n",
      "154  I000 -122.333503  47.670391  2020-01-01  23:17:45             -1\n",
      "\n",
      "[155 rows x 6 columns]\n"
     ]
    }
   ],
   "source": [
    "# create clusters from filtered data\n",
    "cluster_df = create_clusters(filtered_df)\n",
    "print(cluster_df)"
   ]
  },
  {
   "cell_type": "markdown",
   "metadata": {},
   "source": [
    "<h3> List each cluster with the number of points found in it </h3>"
   ]
  },
  {
   "cell_type": "code",
   "execution_count": 162,
   "metadata": {},
   "outputs": [
    {
     "name": "stdout",
     "output_type": "stream",
     "text": [
      "   cluster_label  id  longitude  latitude  date  time\n",
      "0             -1   8          8         8     8     8\n",
      "2              1  24         24        24    24    24\n",
      "1              0  25         25        25    25    25\n",
      "4              3  30         30        30    30    30\n",
      "3              2  68         68        68    68    68\n"
     ]
    }
   ],
   "source": [
    "# see how many points are per cluster\n",
    "print(cluster_df.groupby(\"cluster_label\").count().reset_index().sort_values(\"id\"))"
   ]
  },
  {
   "cell_type": "markdown",
   "metadata": {},
   "source": [
    "<h3> <b>Next Step:</b> Produce a mappable output supported by Mapbox (our visualization tool) </h3>\n"
   ]
  },
  {
   "cell_type": "code",
   "execution_count": 163,
   "metadata": {},
   "outputs": [],
   "source": [
    "# create function to turn a df to a geojson dictionary\n",
    "\n",
    "def df_to_geojson(df):\n",
    "    geojson = {\n",
    "        \"type\": \"FeatureCollection\",\n",
    "        \"features\": []\n",
    "    }\n",
    "\n",
    "    for index, row in df.iterrows():\n",
    "        feature = {\n",
    "            \"type\": \"Feature\",\n",
    "            \"properties\": {\"date\": row[\"date\"], \"time\":row[\"time\"]},\n",
    "            \"geometry\": {\n",
    "                \"type\": \"Point\",\n",
    "                \"coordinates\": [row[\"longitude\"], row[\"latitude\"]]\n",
    "            }\n",
    "        }\n",
    "        geojson[\"features\"].append(feature)\n",
    "\n",
    "    return geojson"
   ]
  },
  {
   "cell_type": "code",
   "execution_count": 164,
   "metadata": {},
   "outputs": [],
   "source": [
    "import json\n",
    "\n",
    "# create function to write geojson dict to a file\n",
    "def write_to_geojson(filepath, geojson):\n",
    "    with open(filepath, 'w') as outfile:\n",
    "        json.dump(geojson, outfile, indent=2)\n",
    "    print(\"Finished writing geojson dict to \", filepath)"
   ]
  },
  {
   "cell_type": "code",
   "execution_count": 165,
   "metadata": {},
   "outputs": [
    {
     "name": "stdout",
     "output_type": "stream",
     "text": [
      "{'type': 'FeatureCollection', 'features': [{'type': 'Feature', 'properties': {'date': '2020-01-01', 'time': '00:38:02'}, 'geometry': {'type': 'Point', 'coordinates': [-122.3747182371207, 47.59369838078001]}}, {'type': 'Feature', 'properties': {'date': '2020-01-01', 'time': '00:38:42'}, 'geometry': {'type': 'Point', 'coordinates': [-122.37471821899534, 47.593726805143966]}}, {'type': 'Feature', 'properties': {'date': '2020-01-01', 'time': '00:43:52'}, 'geometry': {'type': 'Point', 'coordinates': [-122.3747175079831, 47.59414323842463]}}, {'type': 'Feature', 'properties': {'date': '2020-01-01', 'time': '02:13:39'}, 'geometry': {'type': 'Point', 'coordinates': [-122.3747182371207, 47.59369838078001]}}, {'type': 'Feature', 'properties': {'date': '2020-01-01', 'time': '05:37:20'}, 'geometry': {'type': 'Point', 'coordinates': [-122.33350285844485, 47.67040083251598]}}, {'type': 'Feature', 'properties': {'date': '2020-01-01', 'time': '07:39:23'}, 'geometry': {'type': 'Point', 'coordinates': [-122.31638671416374, 47.61888538834712]}}, {'type': 'Feature', 'properties': {'date': '2020-01-01', 'time': '08:16:50'}, 'geometry': {'type': 'Point', 'coordinates': [-122.31638586427368, 47.61471983382876]}}, {'type': 'Feature', 'properties': {'date': '2020-01-01', 'time': '08:20:30'}, 'geometry': {'type': 'Point', 'coordinates': [-122.31638923215534, 47.61467077255274]}}, {'type': 'Feature', 'properties': {'date': '2020-01-01', 'time': '08:24:22'}, 'geometry': {'type': 'Point', 'coordinates': [-122.31639071044724, 47.61471013714015]}}, {'type': 'Feature', 'properties': {'date': '2020-01-01', 'time': '08:26:49'}, 'geometry': {'type': 'Point', 'coordinates': [-122.3163900709384, 47.61467909249115]}}, {'type': 'Feature', 'properties': {'date': '2020-01-01', 'time': '08:27:20'}, 'geometry': {'type': 'Point', 'coordinates': [-122.31639035718004, 47.61472584809193]}}, {'type': 'Feature', 'properties': {'date': '2020-01-01', 'time': '08:31:22'}, 'geometry': {'type': 'Point', 'coordinates': [-122.31639059492724, 47.614691949721866]}}, {'type': 'Feature', 'properties': {'date': '2020-01-01', 'time': '08:32:06'}, 'geometry': {'type': 'Point', 'coordinates': [-122.3163907305514, 47.61468106532683]}}, {'type': 'Feature', 'properties': {'date': '2020-01-01', 'time': '08:33:17'}, 'geometry': {'type': 'Point', 'coordinates': [-122.31639070976242, 47.614721555369016]}}, {'type': 'Feature', 'properties': {'date': '2020-01-01', 'time': '09:37:17'}, 'geometry': {'type': 'Point', 'coordinates': [-122.27253111858867, 47.64854971464861]}}, {'type': 'Feature', 'properties': {'date': '2020-01-01', 'time': '09:37:56'}, 'geometry': {'type': 'Point', 'coordinates': [-122.2725314102603, 47.64836841187388]}}, {'type': 'Feature', 'properties': {'date': '2020-01-01', 'time': '09:38:31'}, 'geometry': {'type': 'Point', 'coordinates': [-122.27253143582304, 47.64843706001259]}}, {'type': 'Feature', 'properties': {'date': '2020-01-01', 'time': '09:39:14'}, 'geometry': {'type': 'Point', 'coordinates': [-122.27253171003557, 47.64854630059344]}}, {'type': 'Feature', 'properties': {'date': '2020-01-01', 'time': '09:43:11'}, 'geometry': {'type': 'Point', 'coordinates': [-122.27253268039946, 47.64849006701754]}}, {'type': 'Feature', 'properties': {'date': '2020-01-01', 'time': '09:44:02'}, 'geometry': {'type': 'Point', 'coordinates': [-122.2725324061743, 47.64845241685952]}}, {'type': 'Feature', 'properties': {'date': '2020-01-01', 'time': '09:45:15'}, 'geometry': {'type': 'Point', 'coordinates': [-122.2725313813993, 47.64843840423497]}}, {'type': 'Feature', 'properties': {'date': '2020-01-01', 'time': '09:48:51'}, 'geometry': {'type': 'Point', 'coordinates': [-122.27253299948804, 47.64905751502797]}}, {'type': 'Feature', 'properties': {'date': '2020-01-01', 'time': '09:53:43'}, 'geometry': {'type': 'Point', 'coordinates': [-122.2725329469028, 47.64908832419211]}}, {'type': 'Feature', 'properties': {'date': '2020-01-01', 'time': '09:55:16'}, 'geometry': {'type': 'Point', 'coordinates': [-122.27253320271218, 47.64907819258535]}}, {'type': 'Feature', 'properties': {'date': '2020-01-01', 'time': '09:56:22'}, 'geometry': {'type': 'Point', 'coordinates': [-122.27253354039031, 47.64844909747828]}}, {'type': 'Feature', 'properties': {'date': '2020-01-01', 'time': '09:59:38'}, 'geometry': {'type': 'Point', 'coordinates': [-122.27253433741328, 47.64840724468175]}}, {'type': 'Feature', 'properties': {'date': '2020-01-01', 'time': '10:01:32'}, 'geometry': {'type': 'Point', 'coordinates': [-122.27253465384892, 47.649135233865934]}}, {'type': 'Feature', 'properties': {'date': '2020-01-01', 'time': '10:06:18'}, 'geometry': {'type': 'Point', 'coordinates': [-122.27253394721336, 47.64913901906394]}}, {'type': 'Feature', 'properties': {'date': '2020-01-01', 'time': '10:09:32'}, 'geometry': {'type': 'Point', 'coordinates': [-122.27253589414956, 47.64847447422903]}}, {'type': 'Feature', 'properties': {'date': '2020-01-01', 'time': '10:11:07'}, 'geometry': {'type': 'Point', 'coordinates': [-122.27253607979716, 47.64852070838224]}}, {'type': 'Feature', 'properties': {'date': '2020-01-01', 'time': '10:11:53'}, 'geometry': {'type': 'Point', 'coordinates': [-122.2725361028785, 47.64851680493896]}}, {'type': 'Feature', 'properties': {'date': '2020-01-01', 'time': '10:15:16'}, 'geometry': {'type': 'Point', 'coordinates': [-122.27253555288156, 47.64909971075337]}}, {'type': 'Feature', 'properties': {'date': '2020-01-01', 'time': '10:19:02'}, 'geometry': {'type': 'Point', 'coordinates': [-122.27253551917984, 47.64837119295519]}}, {'type': 'Feature', 'properties': {'date': '2020-01-01', 'time': '10:33:54'}, 'geometry': {'type': 'Point', 'coordinates': [-122.27253640080372, 47.64846485528149]}}, {'type': 'Feature', 'properties': {'date': '2020-01-01', 'time': '10:55:39'}, 'geometry': {'type': 'Point', 'coordinates': [-122.32014707239072, 47.56459651000617]}}, {'type': 'Feature', 'properties': {'date': '2020-01-01', 'time': '11:00:02'}, 'geometry': {'type': 'Point', 'coordinates': [-122.3201477466987, 47.56367960407216]}}, {'type': 'Feature', 'properties': {'date': '2020-01-01', 'time': '11:03:12'}, 'geometry': {'type': 'Point', 'coordinates': [-122.32014723357872, 47.56456520916576]}}, {'type': 'Feature', 'properties': {'date': '2020-01-01', 'time': '11:04:41'}, 'geometry': {'type': 'Point', 'coordinates': [-122.32014704418005, 47.56463543003539]}}, {'type': 'Feature', 'properties': {'date': '2020-01-01', 'time': '11:10:32'}, 'geometry': {'type': 'Point', 'coordinates': [-122.32014432271902, 47.5646003238761]}}, {'type': 'Feature', 'properties': {'date': '2020-01-01', 'time': '11:11:03'}, 'geometry': {'type': 'Point', 'coordinates': [-122.32014423387976, 47.56459011141625]}}, {'type': 'Feature', 'properties': {'date': '2020-01-01', 'time': '11:19:14'}, 'geometry': {'type': 'Point', 'coordinates': [-122.32014754421267, 47.56459278694467]}}, {'type': 'Feature', 'properties': {'date': '2020-01-01', 'time': '11:21:36'}, 'geometry': {'type': 'Point', 'coordinates': [-122.3201468421407, 47.563663044291246]}}, {'type': 'Feature', 'properties': {'date': '2020-01-01', 'time': '11:37:32'}, 'geometry': {'type': 'Point', 'coordinates': [-122.3201455412003, 47.56321156939088]}}, {'type': 'Feature', 'properties': {'date': '2020-01-01', 'time': '11:57:22'}, 'geometry': {'type': 'Point', 'coordinates': [-122.32014511793912, 47.563246518405954]}}, {'type': 'Feature', 'properties': {'date': '2020-01-01', 'time': '12:06:53'}, 'geometry': {'type': 'Point', 'coordinates': [-122.32014639224228, 47.563188440657136]}}, {'type': 'Feature', 'properties': {'date': '2020-01-01', 'time': '12:07:54'}, 'geometry': {'type': 'Point', 'coordinates': [-122.32014700457296, 47.56370921977015]}}, {'type': 'Feature', 'properties': {'date': '2020-01-01', 'time': '12:08:54'}, 'geometry': {'type': 'Point', 'coordinates': [-122.32014713517454, 47.56366947582438]}}, {'type': 'Feature', 'properties': {'date': '2020-01-01', 'time': '12:09:24'}, 'geometry': {'type': 'Point', 'coordinates': [-122.32014712930288, 47.563692965578575]}}, {'type': 'Feature', 'properties': {'date': '2020-01-01', 'time': '12:13:42'}, 'geometry': {'type': 'Point', 'coordinates': [-122.32014734327934, 47.56462439839311]}}, {'type': 'Feature', 'properties': {'date': '2020-01-01', 'time': '12:19:45'}, 'geometry': {'type': 'Point', 'coordinates': [-122.3201472905298, 47.56315520335199]}}, {'type': 'Feature', 'properties': {'date': '2020-01-01', 'time': '12:21:10'}, 'geometry': {'type': 'Point', 'coordinates': [-122.32014674169707, 47.563192121926924]}}, {'type': 'Feature', 'properties': {'date': '2020-01-01', 'time': '12:27:38'}, 'geometry': {'type': 'Point', 'coordinates': [-122.3201450502846, 47.56369324252189]}}, {'type': 'Feature', 'properties': {'date': '2020-01-01', 'time': '12:29:43'}, 'geometry': {'type': 'Point', 'coordinates': [-122.32014538220017, 47.56368669043116]}}, {'type': 'Feature', 'properties': {'date': '2020-01-01', 'time': '12:30:22'}, 'geometry': {'type': 'Point', 'coordinates': [-122.32014538246295, 47.56368663564251]}}, {'type': 'Feature', 'properties': {'date': '2020-01-01', 'time': '12:34:41'}, 'geometry': {'type': 'Point', 'coordinates': [-122.32014482184957, 47.56317450153203]}}, {'type': 'Feature', 'properties': {'date': '2020-01-01', 'time': '12:36:51'}, 'geometry': {'type': 'Point', 'coordinates': [-122.32014607010277, 47.56323567749356]}}, {'type': 'Feature', 'properties': {'date': '2020-01-01', 'time': '12:42:46'}, 'geometry': {'type': 'Point', 'coordinates': [-122.32014624576853, 47.56459296083211]}}, {'type': 'Feature', 'properties': {'date': '2020-01-01', 'time': '13:41:06'}, 'geometry': {'type': 'Point', 'coordinates': [-122.31638798396696, 47.61893576695209]}}, {'type': 'Feature', 'properties': {'date': '2020-01-01', 'time': '13:42:14'}, 'geometry': {'type': 'Point', 'coordinates': [-122.3163888538327, 47.61888909476972]}}, {'type': 'Feature', 'properties': {'date': '2020-01-01', 'time': '13:45:03'}, 'geometry': {'type': 'Point', 'coordinates': [-122.31638877444342, 47.61891635709498]}}, {'type': 'Feature', 'properties': {'date': '2020-01-01', 'time': '13:52:46'}, 'geometry': {'type': 'Point', 'coordinates': [-122.31638842954942, 47.61889087114027]}}, {'type': 'Feature', 'properties': {'date': '2020-01-01', 'time': '14:10:20'}, 'geometry': {'type': 'Point', 'coordinates': [-122.30281852468715, 47.60313436532212]}}, {'type': 'Feature', 'properties': {'date': '2020-01-01', 'time': '14:10:57'}, 'geometry': {'type': 'Point', 'coordinates': [-122.3028186335034, 47.603180907205925]}}, {'type': 'Feature', 'properties': {'date': '2020-01-01', 'time': '14:11:36'}, 'geometry': {'type': 'Point', 'coordinates': [-122.30281842086865, 47.60317569533493]}}, {'type': 'Feature', 'properties': {'date': '2020-01-01', 'time': '14:12:14'}, 'geometry': {'type': 'Point', 'coordinates': [-122.30281838995434, 47.60313781992888]}}, {'type': 'Feature', 'properties': {'date': '2020-01-01', 'time': '14:14:01'}, 'geometry': {'type': 'Point', 'coordinates': [-122.302816894586, 47.60329512702919]}}, {'type': 'Feature', 'properties': {'date': '2020-01-01', 'time': '14:15:13'}, 'geometry': {'type': 'Point', 'coordinates': [-122.29937560438304, 47.58552784137221]}}, {'type': 'Feature', 'properties': {'date': '2020-01-01', 'time': '14:24:43'}, 'geometry': {'type': 'Point', 'coordinates': [-122.29937509208276, 47.58546807191935]}}, {'type': 'Feature', 'properties': {'date': '2020-01-01', 'time': '14:25:54'}, 'geometry': {'type': 'Point', 'coordinates': [-122.29937505731574, 47.585472961447145]}}, {'type': 'Feature', 'properties': {'date': '2020-01-01', 'time': '14:37:54'}, 'geometry': {'type': 'Point', 'coordinates': [-122.29937149732184, 47.5863323616302]}}, {'type': 'Feature', 'properties': {'date': '2020-01-01', 'time': '14:39:03'}, 'geometry': {'type': 'Point', 'coordinates': [-122.29937144252396, 47.58630378771417]}}, {'type': 'Feature', 'properties': {'date': '2020-01-01', 'time': '14:42:01'}, 'geometry': {'type': 'Point', 'coordinates': [-122.29937197224812, 47.58634688502946]}}, {'type': 'Feature', 'properties': {'date': '2020-01-01', 'time': '14:44:16'}, 'geometry': {'type': 'Point', 'coordinates': [-122.29937309744189, 47.58633930632181]}}, {'type': 'Feature', 'properties': {'date': '2020-01-01', 'time': '14:44:52'}, 'geometry': {'type': 'Point', 'coordinates': [-122.29937337748508, 47.58628013951324]}}, {'type': 'Feature', 'properties': {'date': '2020-01-01', 'time': '14:45:30'}, 'geometry': {'type': 'Point', 'coordinates': [-122.29937338316006, 47.58628655168552]}}, {'type': 'Feature', 'properties': {'date': '2020-01-01', 'time': '15:00:49'}, 'geometry': {'type': 'Point', 'coordinates': [-122.2993736295301, 47.58554630210048]}}, {'type': 'Feature', 'properties': {'date': '2020-01-01', 'time': '15:20:53'}, 'geometry': {'type': 'Point', 'coordinates': [-122.3747182371207, 47.59369838078001]}}, {'type': 'Feature', 'properties': {'date': '2020-01-01', 'time': '15:27:35'}, 'geometry': {'type': 'Point', 'coordinates': [-122.29937560438304, 47.58552784137221]}}, {'type': 'Feature', 'properties': {'date': '2020-01-01', 'time': '15:36:49'}, 'geometry': {'type': 'Point', 'coordinates': [-122.29937531892878, 47.5863009997072]}}, {'type': 'Feature', 'properties': {'date': '2020-01-01', 'time': '15:53:48'}, 'geometry': {'type': 'Point', 'coordinates': [-122.3747182371207, 47.59369838078001]}}, {'type': 'Feature', 'properties': {'date': '2020-01-01', 'time': '15:56:54'}, 'geometry': {'type': 'Point', 'coordinates': [-122.37471757735052, 47.59374468352296]}}, {'type': 'Feature', 'properties': {'date': '2020-01-01', 'time': '16:03:07'}, 'geometry': {'type': 'Point', 'coordinates': [-122.37471782055744, 47.59374475628893]}}, {'type': 'Feature', 'properties': {'date': '2020-01-01', 'time': '16:08:03'}, 'geometry': {'type': 'Point', 'coordinates': [-122.30281852468715, 47.60313436532212]}}, {'type': 'Feature', 'properties': {'date': '2020-01-01', 'time': '16:09:25'}, 'geometry': {'type': 'Point', 'coordinates': [-122.3028195907543, 47.60289921241313]}}, {'type': 'Feature', 'properties': {'date': '2020-01-01', 'time': '16:10:47'}, 'geometry': {'type': 'Point', 'coordinates': [-122.30281958640414, 47.60289946734184]}}, {'type': 'Feature', 'properties': {'date': '2020-01-01', 'time': '16:13:25'}, 'geometry': {'type': 'Point', 'coordinates': [-122.30281983110469, 47.602858652214906]}}, {'type': 'Feature', 'properties': {'date': '2020-01-01', 'time': '16:20:05'}, 'geometry': {'type': 'Point', 'coordinates': [-122.30281639510048, 47.60327326385745]}}, {'type': 'Feature', 'properties': {'date': '2020-01-01', 'time': '16:20:50'}, 'geometry': {'type': 'Point', 'coordinates': [-122.30281648657424, 47.603278086579216]}}, {'type': 'Feature', 'properties': {'date': '2020-01-01', 'time': '16:21:26'}, 'geometry': {'type': 'Point', 'coordinates': [-122.30281684891052, 47.60323269502179]}}, {'type': 'Feature', 'properties': {'date': '2020-01-01', 'time': '16:23:47'}, 'geometry': {'type': 'Point', 'coordinates': [-122.30281699219708, 47.6028716610583]}}, {'type': 'Feature', 'properties': {'date': '2020-01-01', 'time': '16:54:25'}, 'geometry': {'type': 'Point', 'coordinates': [-122.30281852468715, 47.60313436532212]}}, {'type': 'Feature', 'properties': {'date': '2020-01-01', 'time': '16:55:05'}, 'geometry': {'type': 'Point', 'coordinates': [-122.30281854205636, 47.60327550935971]}}, {'type': 'Feature', 'properties': {'date': '2020-01-01', 'time': '16:56:14'}, 'geometry': {'type': 'Point', 'coordinates': [-122.30281807394216, 47.60333353097691]}}, {'type': 'Feature', 'properties': {'date': '2020-01-01', 'time': '16:56:56'}, 'geometry': {'type': 'Point', 'coordinates': [-122.30281808571026, 47.6033298244786]}}, {'type': 'Feature', 'properties': {'date': '2020-01-01', 'time': '17:01:18'}, 'geometry': {'type': 'Point', 'coordinates': [-122.30281902521428, 47.60332911594804]}}, {'type': 'Feature', 'properties': {'date': '2020-01-01', 'time': '17:02:18'}, 'geometry': {'type': 'Point', 'coordinates': [-122.30281869735516, 47.60315536993503]}}, {'type': 'Feature', 'properties': {'date': '2020-01-01', 'time': '17:03:08'}, 'geometry': {'type': 'Point', 'coordinates': [-122.30281930413106, 47.60314043571735]}}, {'type': 'Feature', 'properties': {'date': '2020-01-01', 'time': '17:04:19'}, 'geometry': {'type': 'Point', 'coordinates': [-122.30282008126478, 47.6031947369036]}}, {'type': 'Feature', 'properties': {'date': '2020-01-01', 'time': '17:07:54'}, 'geometry': {'type': 'Point', 'coordinates': [-122.3028195264424, 47.60294905035706]}}, {'type': 'Feature', 'properties': {'date': '2020-01-01', 'time': '17:08:38'}, 'geometry': {'type': 'Point', 'coordinates': [-122.302819458113, 47.60294563344134]}}, {'type': 'Feature', 'properties': {'date': '2020-01-01', 'time': '17:11:01'}, 'geometry': {'type': 'Point', 'coordinates': [-122.3028190919388, 47.60291151452793]}}, {'type': 'Feature', 'properties': {'date': '2020-01-01', 'time': '17:15:08'}, 'geometry': {'type': 'Point', 'coordinates': [-122.30281852468715, 47.60313436532212]}}, {'type': 'Feature', 'properties': {'date': '2020-01-01', 'time': '17:16:14'}, 'geometry': {'type': 'Point', 'coordinates': [-122.30281768179978, 47.60287000292346]}}, {'type': 'Feature', 'properties': {'date': '2020-01-01', 'time': '17:20:04'}, 'geometry': {'type': 'Point', 'coordinates': [-122.30281784576054, 47.60291157655172]}}, {'type': 'Feature', 'properties': {'date': '2020-01-01', 'time': '17:21:13'}, 'geometry': {'type': 'Point', 'coordinates': [-122.30281767468696, 47.602915222948575]}}, {'type': 'Feature', 'properties': {'date': '2020-01-01', 'time': '17:21:58'}, 'geometry': {'type': 'Point', 'coordinates': [-122.3028173781334, 47.60324054137436]}}, {'type': 'Feature', 'properties': {'date': '2020-01-01', 'time': '17:28:10'}, 'geometry': {'type': 'Point', 'coordinates': [-122.30281887706676, 47.60323165987548]}}, {'type': 'Feature', 'properties': {'date': '2020-01-01', 'time': '17:34:24'}, 'geometry': {'type': 'Point', 'coordinates': [-122.30281913312956, 47.6029214818689]}}, {'type': 'Feature', 'properties': {'date': '2020-01-01', 'time': '18:33:52'}, 'geometry': {'type': 'Point', 'coordinates': [-122.27252868014426, 47.64906744895435]}}, {'type': 'Feature', 'properties': {'date': '2020-01-01', 'time': '18:34:51'}, 'geometry': {'type': 'Point', 'coordinates': [-122.2725286918968, 47.649078691254914]}}, {'type': 'Feature', 'properties': {'date': '2020-01-01', 'time': '18:35:58'}, 'geometry': {'type': 'Point', 'coordinates': [-122.2725286846762, 47.64905540882802]}}, {'type': 'Feature', 'properties': {'date': '2020-01-01', 'time': '18:47:49'}, 'geometry': {'type': 'Point', 'coordinates': [-122.2725287788332, 47.64841368389624]}}, {'type': 'Feature', 'properties': {'date': '2020-01-01', 'time': '18:52:39'}, 'geometry': {'type': 'Point', 'coordinates': [-122.32698462396856, 47.54416223600759]}}, {'type': 'Feature', 'properties': {'date': '2020-01-01', 'time': '19:00:15'}, 'geometry': {'type': 'Point', 'coordinates': [-122.32698437581855, 47.54424221322679]}}, {'type': 'Feature', 'properties': {'date': '2020-01-01', 'time': '19:07:41'}, 'geometry': {'type': 'Point', 'coordinates': [-122.30281852468715, 47.60313436532212]}}, {'type': 'Feature', 'properties': {'date': '2020-01-01', 'time': '19:08:43'}, 'geometry': {'type': 'Point', 'coordinates': [-122.30281854440544, 47.60313954097203]}}, {'type': 'Feature', 'properties': {'date': '2020-01-01', 'time': '19:09:34'}, 'geometry': {'type': 'Point', 'coordinates': [-122.30281855246348, 47.603260054836056]}}, {'type': 'Feature', 'properties': {'date': '2020-01-01', 'time': '19:26:50'}, 'geometry': {'type': 'Point', 'coordinates': [-122.3747182371207, 47.59369838078001]}}, {'type': 'Feature', 'properties': {'date': '2020-01-01', 'time': '19:28:51'}, 'geometry': {'type': 'Point', 'coordinates': [-122.3747183516916, 47.59413714414968]}}, {'type': 'Feature', 'properties': {'date': '2020-01-01', 'time': '19:31:24'}, 'geometry': {'type': 'Point', 'coordinates': [-122.3747185345071, 47.59412973320643]}}, {'type': 'Feature', 'properties': {'date': '2020-01-01', 'time': '19:46:37'}, 'geometry': {'type': 'Point', 'coordinates': [-122.37471832240618, 47.594077923477045]}}, {'type': 'Feature', 'properties': {'date': '2020-01-01', 'time': '19:50:34'}, 'geometry': {'type': 'Point', 'coordinates': [-122.37471853072488, 47.59412586559385]}}, {'type': 'Feature', 'properties': {'date': '2020-01-01', 'time': '19:51:43'}, 'geometry': {'type': 'Point', 'coordinates': [-122.3747188852998, 47.59408745522973]}}, {'type': 'Feature', 'properties': {'date': '2020-01-01', 'time': '19:55:55'}, 'geometry': {'type': 'Point', 'coordinates': [-122.37471906611604, 47.594073904028]}}, {'type': 'Feature', 'properties': {'date': '2020-01-01', 'time': '20:00:24'}, 'geometry': {'type': 'Point', 'coordinates': [-122.3747193214314, 47.59369945660064]}}, {'type': 'Feature', 'properties': {'date': '2020-01-01', 'time': '20:01:40'}, 'geometry': {'type': 'Point', 'coordinates': [-122.37471930669037, 47.59366633100813]}}, {'type': 'Feature', 'properties': {'date': '2020-01-01', 'time': '20:42:56'}, 'geometry': {'type': 'Point', 'coordinates': [-122.30281852468715, 47.60313436532212]}}, {'type': 'Feature', 'properties': {'date': '2020-01-01', 'time': '20:43:29'}, 'geometry': {'type': 'Point', 'coordinates': [-122.302818817923, 47.60330722712482]}}, {'type': 'Feature', 'properties': {'date': '2020-01-01', 'time': '20:44:11'}, 'geometry': {'type': 'Point', 'coordinates': [-122.30281897916396, 47.60290659951511]}}, {'type': 'Feature', 'properties': {'date': '2020-01-01', 'time': '20:45:26'}, 'geometry': {'type': 'Point', 'coordinates': [-122.30281893455532, 47.60293672945634]}}, {'type': 'Feature', 'properties': {'date': '2020-01-01', 'time': '20:49:43'}, 'geometry': {'type': 'Point', 'coordinates': [-122.3028204907122, 47.60312002851839]}}, {'type': 'Feature', 'properties': {'date': '2020-01-01', 'time': '21:06:06'}, 'geometry': {'type': 'Point', 'coordinates': [-122.32698462396856, 47.54416223600759]}}, {'type': 'Feature', 'properties': {'date': '2020-01-01', 'time': '21:10:48'}, 'geometry': {'type': 'Point', 'coordinates': [-122.32698461599036, 47.54423357004666]}}, {'type': 'Feature', 'properties': {'date': '2020-01-01', 'time': '21:19:27'}, 'geometry': {'type': 'Point', 'coordinates': [-122.32698409168228, 47.54415463645047]}}, {'type': 'Feature', 'properties': {'date': '2020-01-01', 'time': '21:25:50'}, 'geometry': {'type': 'Point', 'coordinates': [-122.32698466373763, 47.54415346682339]}}, {'type': 'Feature', 'properties': {'date': '2020-01-01', 'time': '21:41:21'}, 'geometry': {'type': 'Point', 'coordinates': [-122.31638810709524, 47.618927832820326]}}, {'type': 'Feature', 'properties': {'date': '2020-01-01', 'time': '21:48:43'}, 'geometry': {'type': 'Point', 'coordinates': [-122.31638946235594, 47.61890748821646]}}, {'type': 'Feature', 'properties': {'date': '2020-01-01', 'time': '21:51:42'}, 'geometry': {'type': 'Point', 'coordinates': [-122.40152048578958, 47.61050213647615]}}, {'type': 'Feature', 'properties': {'date': '2020-01-01', 'time': '21:59:30'}, 'geometry': {'type': 'Point', 'coordinates': [-122.4015232088859, 47.610483437443605]}}, {'type': 'Feature', 'properties': {'date': '2020-01-01', 'time': '22:00:32'}, 'geometry': {'type': 'Point', 'coordinates': [-122.40152266717506, 47.61050592983122]}}, {'type': 'Feature', 'properties': {'date': '2020-01-01', 'time': '22:02:06'}, 'geometry': {'type': 'Point', 'coordinates': [-122.4015221797943, 47.61049190294003]}}, {'type': 'Feature', 'properties': {'date': '2020-01-01', 'time': '22:05:25'}, 'geometry': {'type': 'Point', 'coordinates': [-122.40152123548076, 47.61047346462984]}}, {'type': 'Feature', 'properties': {'date': '2020-01-01', 'time': '22:06:27'}, 'geometry': {'type': 'Point', 'coordinates': [-122.40152197841006, 47.61054206890024]}}, {'type': 'Feature', 'properties': {'date': '2020-01-01', 'time': '22:07:39'}, 'geometry': {'type': 'Point', 'coordinates': [-122.40152183959994, 47.61050963785864]}}, {'type': 'Feature', 'properties': {'date': '2020-01-01', 'time': '22:10:54'}, 'geometry': {'type': 'Point', 'coordinates': [-122.40152311753344, 47.61046283740925]}}, {'type': 'Feature', 'properties': {'date': '2020-01-01', 'time': '22:57:20'}, 'geometry': {'type': 'Point', 'coordinates': [-122.29937560438304, 47.58552784137221]}}, {'type': 'Feature', 'properties': {'date': '2020-01-01', 'time': '22:58:40'}, 'geometry': {'type': 'Point', 'coordinates': [-122.29937560678827, 47.585547440794514]}}, {'type': 'Feature', 'properties': {'date': '2020-01-01', 'time': '22:59:58'}, 'geometry': {'type': 'Point', 'coordinates': [-122.32698462396856, 47.54416223600759]}}, {'type': 'Feature', 'properties': {'date': '2020-01-01', 'time': '23:10:24'}, 'geometry': {'type': 'Point', 'coordinates': [-122.33350285844485, 47.67040083251598]}}, {'type': 'Feature', 'properties': {'date': '2020-01-01', 'time': '23:11:16'}, 'geometry': {'type': 'Point', 'coordinates': [-122.33350324408376, 47.67036496781615]}}, {'type': 'Feature', 'properties': {'date': '2020-01-01', 'time': '23:13:09'}, 'geometry': {'type': 'Point', 'coordinates': [-122.33350238528456, 47.670387931616126]}}, {'type': 'Feature', 'properties': {'date': '2020-01-01', 'time': '23:13:45'}, 'geometry': {'type': 'Point', 'coordinates': [-122.3335025253198, 47.67042634368397]}}, {'type': 'Feature', 'properties': {'date': '2020-01-01', 'time': '23:16:22'}, 'geometry': {'type': 'Point', 'coordinates': [-122.33350250965192, 47.670418854585634]}}, {'type': 'Feature', 'properties': {'date': '2020-01-01', 'time': '23:17:02'}, 'geometry': {'type': 'Point', 'coordinates': [-122.33350260660788, 47.67039239406618]}}, {'type': 'Feature', 'properties': {'date': '2020-01-01', 'time': '23:17:45'}, 'geometry': {'type': 'Point', 'coordinates': [-122.3335028229883, 47.67039148862536]}}]}\n"
     ]
    }
   ],
   "source": [
    "# create geojson dict for cluster for rounding method used in this file\n",
    "round_geojson = df_to_geojson(cluster_df)\n",
    "\n",
    "print(round_geojson)"
   ]
  },
  {
   "cell_type": "code",
   "execution_count": 166,
   "metadata": {},
   "outputs": [
    {
     "name": "stdout",
     "output_type": "stream",
     "text": [
      "Finished writing geojson dict to  ./ClusterResults/round_clusters_0.json\n"
     ]
    }
   ],
   "source": [
    "write_to_geojson(\"./ClusterResults/round_clusters_0.json\", round_geojson)"
   ]
  },
  {
   "cell_type": "code",
   "execution_count": 167,
   "metadata": {},
   "outputs": [
    {
     "name": "stdout",
     "output_type": "stream",
     "text": [
      "{'type': 'FeatureCollection', 'features': [{'type': 'Feature', 'properties': {'date': '2020-01-01', 'time': '00:06:55'}, 'geometry': {'type': 'Point', 'coordinates': [-122.335168841746, 47.6072304075468]}}, {'type': 'Feature', 'properties': {'date': '2020-01-01', 'time': '00:11:07'}, 'geometry': {'type': 'Point', 'coordinates': [-122.335169381394, 47.6070505381334]}}, {'type': 'Feature', 'properties': {'date': '2020-01-01', 'time': '00:19:34'}, 'geometry': {'type': 'Point', 'coordinates': [-122.335170169724, 47.6066967825694]}}, {'type': 'Feature', 'properties': {'date': '2020-01-01', 'time': '00:57:13'}, 'geometry': {'type': 'Point', 'coordinates': [-122.374123483911, 47.6097394780268]}}, {'type': 'Feature', 'properties': {'date': '2020-01-01', 'time': '01:43:42'}, 'geometry': {'type': 'Point', 'coordinates': [-122.317920980697, 47.5918025161772]}}, {'type': 'Feature', 'properties': {'date': '2020-01-01', 'time': '01:53:09'}, 'geometry': {'type': 'Point', 'coordinates': [-122.317920679773, 47.5912020307864]}}, {'type': 'Feature', 'properties': {'date': '2020-01-01', 'time': '01:58:09'}, 'geometry': {'type': 'Point', 'coordinates': [-122.357679510203, 47.5921121524283]}}, {'type': 'Feature', 'properties': {'date': '2020-01-01', 'time': '02:33:21'}, 'geometry': {'type': 'Point', 'coordinates': [-122.322168770314, 47.62295558345]}}, {'type': 'Feature', 'properties': {'date': '2020-01-01', 'time': '03:53:00'}, 'geometry': {'type': 'Point', 'coordinates': [-122.283528643689, 47.6610557011538]}}, {'type': 'Feature', 'properties': {'date': '2020-01-01', 'time': '03:58:05'}, 'geometry': {'type': 'Point', 'coordinates': [-122.283527176776, 47.6612831895997]}}, {'type': 'Feature', 'properties': {'date': '2020-01-01', 'time': '04:15:27'}, 'geometry': {'type': 'Point', 'coordinates': [-122.283525411663, 47.6611329625183]}}, {'type': 'Feature', 'properties': {'date': '2020-01-01', 'time': '04:20:06'}, 'geometry': {'type': 'Point', 'coordinates': [-122.283524577918, 47.660384753984]}}, {'type': 'Feature', 'properties': {'date': '2020-01-01', 'time': '04:27:21'}, 'geometry': {'type': 'Point', 'coordinates': [-122.28352402344, 47.6600453076935]}}, {'type': 'Feature', 'properties': {'date': '2020-01-01', 'time': '04:33:00'}, 'geometry': {'type': 'Point', 'coordinates': [-122.283526778452, 47.6607813547431]}}, {'type': 'Feature', 'properties': {'date': '2020-01-01', 'time': '04:39:51'}, 'geometry': {'type': 'Point', 'coordinates': [-122.28352648685, 47.6602972535948]}}, {'type': 'Feature', 'properties': {'date': '2020-01-01', 'time': '04:44:28'}, 'geometry': {'type': 'Point', 'coordinates': [-122.39810072197, 47.5937911686101]}}, {'type': 'Feature', 'properties': {'date': '2020-01-01', 'time': '05:53:04'}, 'geometry': {'type': 'Point', 'coordinates': [-122.333501171805, 47.6721253789418]}}, {'type': 'Feature', 'properties': {'date': '2020-01-01', 'time': '05:58:06'}, 'geometry': {'type': 'Point', 'coordinates': [-122.333502670182, 47.6726611765074]}}, {'type': 'Feature', 'properties': {'date': '2020-01-01', 'time': '06:27:30'}, 'geometry': {'type': 'Point', 'coordinates': [-122.283530622441, 47.6620460609023]}}, {'type': 'Feature', 'properties': {'date': '2020-01-01', 'time': '06:38:13'}, 'geometry': {'type': 'Point', 'coordinates': [-122.28353095505, 47.6626585865902]}}, {'type': 'Feature', 'properties': {'date': '2020-01-01', 'time': '06:43:44'}, 'geometry': {'type': 'Point', 'coordinates': [-122.28353118196, 47.6629587964973]}}, {'type': 'Feature', 'properties': {'date': '2020-01-01', 'time': '06:49:15'}, 'geometry': {'type': 'Point', 'coordinates': [-122.283531984254, 47.6635103946254]}}, {'type': 'Feature', 'properties': {'date': '2020-01-01', 'time': '06:54:32'}, 'geometry': {'type': 'Point', 'coordinates': [-122.283532432681, 47.6635658906205]}}, {'type': 'Feature', 'properties': {'date': '2020-01-01', 'time': '06:59:50'}, 'geometry': {'type': 'Point', 'coordinates': [-122.283534794835, 47.6633255919343]}}, {'type': 'Feature', 'properties': {'date': '2020-01-01', 'time': '07:10:29'}, 'geometry': {'type': 'Point', 'coordinates': [-122.306999703059, 47.6290980892673]}}, {'type': 'Feature', 'properties': {'date': '2020-01-01', 'time': '08:15:51'}, 'geometry': {'type': 'Point', 'coordinates': [-122.316386874711, 47.6146965692988]}}, {'type': 'Feature', 'properties': {'date': '2020-01-01', 'time': '08:20:30'}, 'geometry': {'type': 'Point', 'coordinates': [-122.316389749889, 47.6142941139626]}}, {'type': 'Feature', 'properties': {'date': '2020-01-01', 'time': '08:25:00'}, 'geometry': {'type': 'Point', 'coordinates': [-122.316390335678, 47.6148614096884]}}, {'type': 'Feature', 'properties': {'date': '2020-01-01', 'time': '08:30:39'}, 'geometry': {'type': 'Point', 'coordinates': [-122.316390450367, 47.614683205808]}}, {'type': 'Feature', 'properties': {'date': '2020-01-01', 'time': '08:35:27'}, 'geometry': {'type': 'Point', 'coordinates': [-122.316389809096, 47.6141594077691]}}, {'type': 'Feature', 'properties': {'date': '2020-01-01', 'time': '08:40:18'}, 'geometry': {'type': 'Point', 'coordinates': [-122.316389231396, 47.6144071946053]}}, {'type': 'Feature', 'properties': {'date': '2020-01-01', 'time': '08:45:41'}, 'geometry': {'type': 'Point', 'coordinates': [-122.31638920979, 47.6142314727549]}}, {'type': 'Feature', 'properties': {'date': '2020-01-01', 'time': '08:50:28'}, 'geometry': {'type': 'Point', 'coordinates': [-122.316389013937, 47.6132511902083]}}, {'type': 'Feature', 'properties': {'date': '2020-01-01', 'time': '09:10:49'}, 'geometry': {'type': 'Point', 'coordinates': [-122.316387460262, 47.611873357053]}}, {'type': 'Feature', 'properties': {'date': '2020-01-01', 'time': '09:16:05'}, 'geometry': {'type': 'Point', 'coordinates': [-122.316387085661, 47.6123785002407]}}, {'type': 'Feature', 'properties': {'date': '2020-01-01', 'time': '09:24:09'}, 'geometry': {'type': 'Point', 'coordinates': [-122.316386645119, 47.6119652602246]}}, {'type': 'Feature', 'properties': {'date': '2020-01-01', 'time': '09:29:09'}, 'geometry': {'type': 'Point', 'coordinates': [-122.316386234366, 47.6118854511185]}}, {'type': 'Feature', 'properties': {'date': '2020-01-01', 'time': '09:34:54'}, 'geometry': {'type': 'Point', 'coordinates': [-122.272531127833, 47.6492303786399]}}, {'type': 'Feature', 'properties': {'date': '2020-01-01', 'time': '09:39:14'}, 'geometry': {'type': 'Point', 'coordinates': [-122.272532461072, 47.6485400597911]}}, {'type': 'Feature', 'properties': {'date': '2020-01-01', 'time': '09:44:02'}, 'geometry': {'type': 'Point', 'coordinates': [-122.272532431015, 47.6487211441533]}}, {'type': 'Feature', 'properties': {'date': '2020-01-01', 'time': '09:49:27'}, 'geometry': {'type': 'Point', 'coordinates': [-122.272532865938, 47.649332752515]}}, {'type': 'Feature', 'properties': {'date': '2020-01-01', 'time': '09:54:39'}, 'geometry': {'type': 'Point', 'coordinates': [-122.272533665128, 47.6488366455515]}}, {'type': 'Feature', 'properties': {'date': '2020-01-01', 'time': '09:59:38'}, 'geometry': {'type': 'Point', 'coordinates': [-122.272534299594, 47.6492364752898]}}, {'type': 'Feature', 'properties': {'date': '2020-01-01', 'time': '10:08:17'}, 'geometry': {'type': 'Point', 'coordinates': [-122.272535735037, 47.6487202797352]}}, {'type': 'Feature', 'properties': {'date': '2020-01-01', 'time': '10:14:01'}, 'geometry': {'type': 'Point', 'coordinates': [-122.272535777769, 47.6488434875626]}}, {'type': 'Feature', 'properties': {'date': '2020-01-01', 'time': '10:19:02'}, 'geometry': {'type': 'Point', 'coordinates': [-122.27253551918, 47.6483711929552]}}, {'type': 'Feature', 'properties': {'date': '2020-01-01', 'time': '10:29:26'}, 'geometry': {'type': 'Point', 'coordinates': [-122.272536739824, 47.648431436978]}}, {'type': 'Feature', 'properties': {'date': '2020-01-01', 'time': '10:37:38'}, 'geometry': {'type': 'Point', 'coordinates': [-122.320149257589, 47.5655666741296]}}, {'type': 'Feature', 'properties': {'date': '2020-01-01', 'time': '10:52:04'}, 'geometry': {'type': 'Point', 'coordinates': [-122.320146897095, 47.5648038255667]}}, {'type': 'Feature', 'properties': {'date': '2020-01-01', 'time': '11:06:26'}, 'geometry': {'type': 'Point', 'coordinates': [-122.320145046462, 47.5642886303032]}}, {'type': 'Feature', 'properties': {'date': '2020-01-01', 'time': '11:11:03'}, 'geometry': {'type': 'Point', 'coordinates': [-122.320145010779, 47.56463236628]}}, {'type': 'Feature', 'properties': {'date': '2020-01-01', 'time': '11:17:53'}, 'geometry': {'type': 'Point', 'coordinates': [-122.32014705079, 47.5644414521123]}}, {'type': 'Feature', 'properties': {'date': '2020-01-01', 'time': '11:22:41'}, 'geometry': {'type': 'Point', 'coordinates': [-122.320147013653, 47.5632382475042]}}, {'type': 'Feature', 'properties': {'date': '2020-01-01', 'time': '11:29:15'}, 'geometry': {'type': 'Point', 'coordinates': [-122.320145792717, 47.5625479228573]}}, {'type': 'Feature', 'properties': {'date': '2020-01-01', 'time': '11:34:10'}, 'geometry': {'type': 'Point', 'coordinates': [-122.320145354251, 47.5626238369745]}}, {'type': 'Feature', 'properties': {'date': '2020-01-01', 'time': '11:40:03'}, 'geometry': {'type': 'Point', 'coordinates': [-122.320146772457, 47.563850936757]}}, {'type': 'Feature', 'properties': {'date': '2020-01-01', 'time': '11:45:02'}, 'geometry': {'type': 'Point', 'coordinates': [-122.320147176092, 47.5627731010602]}}, {'type': 'Feature', 'properties': {'date': '2020-01-01', 'time': '11:50:19'}, 'geometry': {'type': 'Point', 'coordinates': [-122.32014622757, 47.5624248772081]}}, {'type': 'Feature', 'properties': {'date': '2020-01-01', 'time': '11:57:55'}, 'geometry': {'type': 'Point', 'coordinates': [-122.32014568788, 47.563396554691]}}, {'type': 'Feature', 'properties': {'date': '2020-01-01', 'time': '12:17:10'}, 'geometry': {'type': 'Point', 'coordinates': [-122.320147210719, 47.5632992259281]}}, {'type': 'Feature', 'properties': {'date': '2020-01-01', 'time': '12:22:17'}, 'geometry': {'type': 'Point', 'coordinates': [-122.320145750289, 47.5629830373634]}}, {'type': 'Feature', 'properties': {'date': '2020-01-01', 'time': '12:27:38'}, 'geometry': {'type': 'Point', 'coordinates': [-122.320145420518, 47.5636396188707]}}, {'type': 'Feature', 'properties': {'date': '2020-01-01', 'time': '12:32:19'}, 'geometry': {'type': 'Point', 'coordinates': [-122.320145338798, 47.5632196682646]}}, {'type': 'Feature', 'properties': {'date': '2020-01-01', 'time': '12:37:44'}, 'geometry': {'type': 'Point', 'coordinates': [-122.320146131669, 47.5639684797097]}}, {'type': 'Feature', 'properties': {'date': '2020-01-01', 'time': '12:57:52'}, 'geometry': {'type': 'Point', 'coordinates': [-122.310665084661, 47.6243497776658]}}, {'type': 'Feature', 'properties': {'date': '2020-01-01', 'time': '13:11:26'}, 'geometry': {'type': 'Point', 'coordinates': [-122.310664626922, 47.6240472765513]}}, {'type': 'Feature', 'properties': {'date': '2020-01-01', 'time': '13:16:43'}, 'geometry': {'type': 'Point', 'coordinates': [-122.310664072428, 47.6246235730073]}}, {'type': 'Feature', 'properties': {'date': '2020-01-01', 'time': '13:21:48'}, 'geometry': {'type': 'Point', 'coordinates': [-122.310664547982, 47.6247291616439]}}, {'type': 'Feature', 'properties': {'date': '2020-01-01', 'time': '13:27:09'}, 'geometry': {'type': 'Point', 'coordinates': [-122.310664494514, 47.6242113304046]}}, {'type': 'Feature', 'properties': {'date': '2020-01-01', 'time': '13:33:00'}, 'geometry': {'type': 'Point', 'coordinates': [-122.310664812771, 47.6246111919018]}}, {'type': 'Feature', 'properties': {'date': '2020-01-01', 'time': '13:38:41'}, 'geometry': {'type': 'Point', 'coordinates': [-122.316387848844, 47.6185090453591]}}, {'type': 'Feature', 'properties': {'date': '2020-01-01', 'time': '13:53:53'}, 'geometry': {'type': 'Point', 'coordinates': [-122.301076046753, 47.5888450891017]}}, {'type': 'Feature', 'properties': {'date': '2020-01-01', 'time': '14:29:50'}, 'geometry': {'type': 'Point', 'coordinates': [-122.299372855115, 47.5854084405309]}}, {'type': 'Feature', 'properties': {'date': '2020-01-01', 'time': '14:34:31'}, 'geometry': {'type': 'Point', 'coordinates': [-122.299371675617, 47.5858351608596]}}, {'type': 'Feature', 'properties': {'date': '2020-01-01', 'time': '14:39:03'}, 'geometry': {'type': 'Point', 'coordinates': [-122.299371828058, 47.5861804136785]}}, {'type': 'Feature', 'properties': {'date': '2020-01-01', 'time': '14:44:16'}, 'geometry': {'type': 'Point', 'coordinates': [-122.299373237463, 47.5863097229175]}}, {'type': 'Feature', 'properties': {'date': '2020-01-01', 'time': '14:51:52'}, 'geometry': {'type': 'Point', 'coordinates': [-122.299373137692, 47.5865185031851]}}, {'type': 'Feature', 'properties': {'date': '2020-01-01', 'time': '14:56:29'}, 'geometry': {'type': 'Point', 'coordinates': [-122.331035250792, 47.595474719485]}}, {'type': 'Feature', 'properties': {'date': '2020-01-01', 'time': '16:08:03'}, 'geometry': {'type': 'Point', 'coordinates': [-122.302819353455, 47.6029759759727]}}, {'type': 'Feature', 'properties': {'date': '2020-01-01', 'time': '16:23:47'}, 'geometry': {'type': 'Point', 'coordinates': [-122.302817204513, 47.6026145440476]}}, {'type': 'Feature', 'properties': {'date': '2020-01-01', 'time': '16:41:19'}, 'geometry': {'type': 'Point', 'coordinates': [-122.30282011311, 47.602234828676]}}, {'type': 'Feature', 'properties': {'date': '2020-01-01', 'time': '16:54:25'}, 'geometry': {'type': 'Point', 'coordinates': [-122.302818330488, 47.6032085589944]}}, {'type': 'Feature', 'properties': {'date': '2020-01-01', 'time': '16:59:09'}, 'geometry': {'type': 'Point', 'coordinates': [-122.30281935403, 47.602828066235]}}, {'type': 'Feature', 'properties': {'date': '2020-01-01', 'time': '17:09:37'}, 'geometry': {'type': 'Point', 'coordinates': [-122.302819383824, 47.6026458345506]}}, {'type': 'Feature', 'properties': {'date': '2020-01-01', 'time': '17:14:07'}, 'geometry': {'type': 'Point', 'coordinates': [-122.302818250225, 47.6026890990741]}}, {'type': 'Feature', 'properties': {'date': '2020-01-01', 'time': '17:19:21'}, 'geometry': {'type': 'Point', 'coordinates': [-122.302817802362, 47.6028548764]}}, {'type': 'Feature', 'properties': {'date': '2020-01-01', 'time': '17:26:51'}, 'geometry': {'type': 'Point', 'coordinates': [-122.302818741599, 47.6033970439509]}}, {'type': 'Feature', 'properties': {'date': '2020-01-01', 'time': '17:31:00'}, 'geometry': {'type': 'Point', 'coordinates': [-122.302819192683, 47.6028636388358]}}, {'type': 'Feature', 'properties': {'date': '2020-01-01', 'time': '17:37:23'}, 'geometry': {'type': 'Point', 'coordinates': [-122.302818018858, 47.6025873083154]}}, {'type': 'Feature', 'properties': {'date': '2020-01-01', 'time': '17:48:03'}, 'geometry': {'type': 'Point', 'coordinates': [-122.358592433613, 47.5843397450559]}}, {'type': 'Feature', 'properties': {'date': '2020-01-01', 'time': '17:53:55'}, 'geometry': {'type': 'Point', 'coordinates': [-122.358591474977, 47.5852370138491]}}, {'type': 'Feature', 'properties': {'date': '2020-01-01', 'time': '17:58:12'}, 'geometry': {'type': 'Point', 'coordinates': [-122.36181763032, 47.5873541393281]}}, {'type': 'Feature', 'properties': {'date': '2020-01-01', 'time': '19:31:24'}, 'geometry': {'type': 'Point', 'coordinates': [-122.374718308621, 47.594103980201]}}, {'type': 'Feature', 'properties': {'date': '2020-01-01', 'time': '19:42:31'}, 'geometry': {'type': 'Point', 'coordinates': [-122.374718097919, 47.59437851341]}}, {'type': 'Feature', 'properties': {'date': '2020-01-01', 'time': '19:47:14'}, 'geometry': {'type': 'Point', 'coordinates': [-122.332459511527, 47.5792314728811]}}, {'type': 'Feature', 'properties': {'date': '2020-01-01', 'time': '21:11:52'}, 'geometry': {'type': 'Point', 'coordinates': [-122.326983780286, 47.5440668322801]}}, {'type': 'Feature', 'properties': {'date': '2020-01-01', 'time': '21:18:04'}, 'geometry': {'type': 'Point', 'coordinates': [-122.326983984448, 47.5438042352793]}}, {'type': 'Feature', 'properties': {'date': '2020-01-01', 'time': '21:24:44'}, 'geometry': {'type': 'Point', 'coordinates': [-122.326984400432, 47.544044603766]}}, {'type': 'Feature', 'properties': {'date': '2020-01-01', 'time': '21:29:10'}, 'geometry': {'type': 'Point', 'coordinates': [-122.326984050424, 47.5442052735526]}}, {'type': 'Feature', 'properties': {'date': '2020-01-01', 'time': '21:50:47'}, 'geometry': {'type': 'Point', 'coordinates': [-122.401521419723, 47.6102050759556]}}, {'type': 'Feature', 'properties': {'date': '2020-01-01', 'time': '21:55:28'}, 'geometry': {'type': 'Point', 'coordinates': [-122.392054859853, 47.6063501694722]}}, {'type': 'Feature', 'properties': {'date': '2020-01-01', 'time': '22:20:53'}, 'geometry': {'type': 'Point', 'coordinates': [-122.306847799026, 47.5711539696205]}}, {'type': 'Feature', 'properties': {'date': '2020-01-01', 'time': '22:25:34'}, 'geometry': {'type': 'Point', 'coordinates': [-122.306846326542, 47.5715079569843]}}, {'type': 'Feature', 'properties': {'date': '2020-01-01', 'time': '22:30:13'}, 'geometry': {'type': 'Point', 'coordinates': [-122.30684603174, 47.571140822296]}}, {'type': 'Feature', 'properties': {'date': '2020-01-01', 'time': '22:35:09'}, 'geometry': {'type': 'Point', 'coordinates': [-122.306846174223, 47.5708852360886]}}, {'type': 'Feature', 'properties': {'date': '2020-01-01', 'time': '22:40:16'}, 'geometry': {'type': 'Point', 'coordinates': [-122.30684611738, 47.5709729125567]}}, {'type': 'Feature', 'properties': {'date': '2020-01-01', 'time': '22:45:12'}, 'geometry': {'type': 'Point', 'coordinates': [-122.306846109637, 47.5710380015871]}}, {'type': 'Feature', 'properties': {'date': '2020-01-01', 'time': '22:50:52'}, 'geometry': {'type': 'Point', 'coordinates': [-122.306846537587, 47.5711230068538]}}, {'type': 'Feature', 'properties': {'date': '2020-01-01', 'time': '22:55:31'}, 'geometry': {'type': 'Point', 'coordinates': [-122.328171407494, 47.6503803061012]}}, {'type': 'Feature', 'properties': {'date': '2020-01-01', 'time': '23:23:44'}, 'geometry': {'type': 'Point', 'coordinates': [-122.333502121026, 47.6700598536408]}}, {'type': 'Feature', 'properties': {'date': '2020-01-01', 'time': '23:28:26'}, 'geometry': {'type': 'Point', 'coordinates': [-122.348793978657, 47.6778512036741]}}, {'type': 'Feature', 'properties': {'date': '2020-01-01', 'time': '23:33:59'}, 'geometry': {'type': 'Point', 'coordinates': [-122.371731514084, 47.6893212344837]}}, {'type': 'Feature', 'properties': {'date': '2020-01-01', 'time': '23:47:51'}, 'geometry': {'type': 'Point', 'coordinates': [-122.371731284167, 47.6893734492231]}}, {'type': 'Feature', 'properties': {'date': '2020-01-01', 'time': '23:52:23'}, 'geometry': {'type': 'Point', 'coordinates': [-122.381754508968, 47.5442825133436]}}, {'type': 'Feature', 'properties': {'date': '2020-01-01', 'time': '23:57:26'}, 'geometry': {'type': 'Point', 'coordinates': [-122.381754833523, 47.5438492228581]}}]}\n"
     ]
    }
   ],
   "source": [
    "# create geojson dict for cluster for distance method used in R file\n",
    "# First, import the file as a df\n",
    "distance_df = pd.read_csv(\"./FilteredData/distance_filtered_0.csv\")\n",
    "# Narrow down data to be the same day as the one we're doing exploratory analyzis on\n",
    "distance_df = distance_df[distance_df[\"date\"] == \"2020-01-01\"]\n",
    "# finally, write file\n",
    "distance_geojson = df_to_geojson(distance_df)\n",
    "\n",
    "print(distance_geojson)"
   ]
  },
  {
   "cell_type": "code",
   "execution_count": 168,
   "metadata": {},
   "outputs": [
    {
     "name": "stdout",
     "output_type": "stream",
     "text": [
      "Finished writing geojson dict to  ./ClusterResults/distance_clusters_0.json\n"
     ]
    }
   ],
   "source": [
    "# write to file\n",
    "write_to_geojson(\"./ClusterResults/distance_clusters_0.json\", distance_geojson)"
   ]
  },
  {
   "cell_type": "code",
   "execution_count": 169,
   "metadata": {},
   "outputs": [
    {
     "name": "stderr",
     "output_type": "stream",
     "text": [
      "[NbConvertApp] Converting notebook clusterer.ipynb to html\n",
      "[NbConvertApp] Writing 663459 bytes to clusterer.html\n"
     ]
    }
   ],
   "source": [
    "!jupyter nbconvert --to html clusterer.ipynb"
   ]
  }
 ],
 "metadata": {
  "kernelspec": {
   "display_name": "Python 3",
   "language": "python",
   "name": "python3"
  },
  "language_info": {
   "codemirror_mode": {
    "name": "ipython",
    "version": 3
   },
   "file_extension": ".py",
   "mimetype": "text/x-python",
   "name": "python",
   "nbconvert_exporter": "python",
   "pygments_lexer": "ipython3",
   "version": "3.10.11"
  }
 },
 "nbformat": 4,
 "nbformat_minor": 2
}
