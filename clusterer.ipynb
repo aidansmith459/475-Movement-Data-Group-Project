{
 "cells": [
  {
   "cell_type": "markdown",
   "metadata": {},
   "source": [
    "<h1> Notebook showing the clustering of data id \"IOOO\" on 2020-01-01 </h1>"
   ]
  },
  {
   "cell_type": "markdown",
   "metadata": {},
   "source": [
    "<h3> Documentation for hdbscan library in python: </h3>\n",
    "<a> https://cran.r-project.org/web/packages/dbscan/vignettes/hdbscan.html </a>"
   ]
  },
  {
   "cell_type": "code",
   "execution_count": 101,
   "metadata": {},
   "outputs": [],
   "source": [
    "# import libraries needed\n",
    "import pandas as pd\n",
    "import hdbscan\n",
    "import matplotlib.pyplot as plt\n",
    "import seaborn as sns\n",
    "from sklearn.preprocessing import StandardScaler\n"
   ]
  },
  {
   "cell_type": "code",
   "execution_count": 102,
   "metadata": {},
   "outputs": [
    {
     "name": "stdout",
     "output_type": "stream",
     "text": [
      "          id   longitude   latitude        date      time\n",
      "0       I000 -122.335167  47.608013  2020-01-01  00:00:00\n",
      "1       I000 -122.335168  47.608002  2020-01-01  00:01:07\n",
      "2       I000 -122.335169  47.608598  2020-01-01  00:02:30\n",
      "3       I000 -122.335168  47.608501  2020-01-01  00:03:40\n",
      "4       I000 -122.335169  47.607648  2020-01-01  00:05:07\n",
      "...      ...         ...        ...         ...       ...\n",
      "526483  I000 -122.426741  47.572358  2020-12-30  23:56:41\n",
      "526484  I000 -122.426741  47.572356  2020-12-30  23:57:14\n",
      "526485  I000 -122.426741  47.572213  2020-12-30  23:58:03\n",
      "526486  I000 -122.316388  47.618509  2020-12-30  23:59:13\n",
      "526487  I000 -122.316388  47.617609  2020-12-31  00:00:26\n",
      "\n",
      "[526488 rows x 5 columns]\n"
     ]
    }
   ],
   "source": [
    "# load data\n",
    "user0_df = pd.read_csv(\"./CleanData/movements_0.csv\")\n",
    "\n",
    "print(user0_df)"
   ]
  },
  {
   "cell_type": "code",
   "execution_count": 103,
   "metadata": {},
   "outputs": [
    {
     "name": "stdout",
     "output_type": "stream",
     "text": [
      "        id   longitude   latitude        date      time\n",
      "0     I000 -122.335167  47.608013  2020-01-01  00:00:00\n",
      "1     I000 -122.335168  47.608002  2020-01-01  00:01:07\n",
      "2     I000 -122.335169  47.608598  2020-01-01  00:02:30\n",
      "3     I000 -122.335168  47.608501  2020-01-01  00:03:40\n",
      "4     I000 -122.335169  47.607648  2020-01-01  00:05:07\n",
      "...    ...         ...        ...         ...       ...\n",
      "1442  I000 -122.381754  47.543701  2020-01-01  23:55:41\n",
      "1443  I000 -122.381754  47.543135  2020-01-01  23:56:38\n",
      "1444  I000 -122.381754  47.543680  2020-01-01  23:57:26\n",
      "1445  I000 -122.381754  47.543708  2020-01-01  23:58:39\n",
      "1446  I000 -122.381755  47.543255  2020-01-01  23:59:29\n",
      "\n",
      "[1447 rows x 5 columns]\n"
     ]
    }
   ],
   "source": [
    "# let's start off with just the first day of data\n",
    "first_day = user0_df[user0_df[\"date\"]==\"2020-01-01\"]\n",
    "print(first_day)"
   ]
  },
  {
   "cell_type": "markdown",
   "metadata": {},
   "source": [
    "<h2> How accurate does lat long need to be? Can we round? </h2>\n",
    "<p> So, as you can see from the table below, a lat/long rounded up to a single decimal place can accurately identify a country or region, whereas rounded up to two could identify a large city or district. But five decimal places can accurately hone in on an individual tree, and six can identify a person. </p>\n",
    "<a> https://blis.com/precision-matters-critical-importance-decimal-places-five-lowest-go/ </a>\n",
    "<p> Therefore; we can round down to 4 if needed as it \"Can identify an individual street or parcel of land\" and has a distance of 11.1 meters. </p>"
   ]
  },
  {
   "cell_type": "code",
   "execution_count": 104,
   "metadata": {},
   "outputs": [
    {
     "name": "stdout",
     "output_type": "stream",
     "text": [
      "      longitude  latitude    id        date      time\n",
      "0     -122.3352   47.6080  I000  2020-01-01  00:00:00\n",
      "1     -122.3352   47.6080  I000  2020-01-01  00:01:07\n",
      "2     -122.3352   47.6086  I000  2020-01-01  00:02:30\n",
      "3     -122.3352   47.6085  I000  2020-01-01  00:03:40\n",
      "4     -122.3352   47.6076  I000  2020-01-01  00:05:07\n",
      "...         ...       ...   ...         ...       ...\n",
      "1442  -122.3818   47.5437  I000  2020-01-01  23:55:41\n",
      "1443  -122.3818   47.5431  I000  2020-01-01  23:56:38\n",
      "1444  -122.3818   47.5437  I000  2020-01-01  23:57:26\n",
      "1445  -122.3818   47.5437  I000  2020-01-01  23:58:39\n",
      "1446  -122.3818   47.5433  I000  2020-01-01  23:59:29\n",
      "\n",
      "[1447 rows x 5 columns]\n"
     ]
    }
   ],
   "source": [
    "# round to 4 decimal places\n",
    "rounded_df = first_day[[\"longitude\", \"latitude\"]].round(4)\n",
    "rounded_df[[\"id\",\"date\",\"time\"]] = first_day[[\"id\",\"date\",\"time\"]]\n",
    "print(rounded_df)"
   ]
  },
  {
   "cell_type": "code",
   "execution_count": 105,
   "metadata": {},
   "outputs": [
    {
     "name": "stdout",
     "output_type": "stream",
     "text": [
      "     longitude  latitude  id  date  time\n",
      "0    -122.4359   47.6175   1     1     1\n",
      "289  -122.3179   47.5898   1     1     1\n",
      "285  -122.3201   47.5662   1     1     1\n",
      "283  -122.3201   47.5660   1     1     1\n",
      "282  -122.3201   47.5659   1     1     1\n",
      "..         ...       ...  ..   ...   ...\n",
      "497  -122.2835   47.6630   5     5     5\n",
      "462  -122.2994   47.5876   5     5     5\n",
      "521  -122.2828   47.6440   5     5     5\n",
      "475  -122.2835   47.6607   5     5     5\n",
      "276  -122.3201   47.5651   5     5     5\n",
      "\n",
      "[540 rows x 5 columns]\n"
     ]
    }
   ],
   "source": [
    "# group by (latitude,longitude) points to see most visited streets/parcels of land of about 11m in distance\n",
    "groups = rounded_df.groupby([\"longitude\", \"latitude\"]).count().reset_index().sort_values(\"id\")\n",
    "print(groups[groups[\"id\"]<=5])"
   ]
  },
  {
   "cell_type": "markdown",
   "metadata": {},
   "source": [
    "<p> 540 points that show up less than 6 times. </p>"
   ]
  },
  {
   "cell_type": "code",
   "execution_count": 106,
   "metadata": {},
   "outputs": [
    {
     "name": "stdout",
     "output_type": "stream",
     "text": [
      "     longitude  latitude  id  date  time\n",
      "401  -122.3068   47.5712   6     6     6\n",
      "272  -122.3201   47.5647   6     6     6\n",
      "327  -122.3164   47.6142   6     6     6\n",
      "436  -122.3028   47.6034   6     6     6\n",
      "522  -122.2828   47.6441   6     6     6\n",
      "274  -122.3201   47.5649   6     6     6\n",
      "476  -122.2835   47.6608   6     6     6\n",
      "266  -122.3201   47.5641   6     6     6\n",
      "268  -122.3201   47.5643   6     6     6\n",
      "562  -122.2725   47.6494   6     6     6\n",
      "311  -122.3164   47.6120   6     6     6\n",
      "230  -122.3270   47.5441   6     6     6\n",
      "233  -122.3270   47.5444   6     6     6\n",
      "451  -122.2994   47.5859   6     6     6\n",
      "357  -122.3164   47.6190   6     6     6\n",
      "186  -122.3352   47.6067   6     6     6\n",
      "267  -122.3201   47.5642   6     6     6\n",
      "399  -122.3068   47.5710   6     6     6\n",
      "255  -122.3201   47.5630   6     6     6\n",
      "373  -122.3107   47.6244   6     6     6\n",
      "457  -122.2994   47.5866   6     6     6\n",
      "372  -122.3107   47.6243   6     6     6\n",
      "208  -122.3335   47.6706   6     6     6\n",
      "329  -122.3164   47.6144   6     6     6\n",
      "454  -122.2994   47.5863   7     7     7\n",
      "96   -122.3747   47.5941   7     7     7\n",
      "356  -122.3164   47.6189   7     7     7\n",
      "231  -122.3270   47.5442   7     7     7\n",
      "257  -122.3201   47.5632   7     7     7\n",
      "552  -122.2725   47.6484   7     7     7\n",
      "434  -122.3028   47.6032   7     7     7\n",
      "447  -122.2994   47.5855   7     7     7\n",
      "332  -122.3164   47.6147   8     8     8\n",
      "262  -122.3201   47.5637   8     8     8\n",
      "206  -122.3335   47.6704   8     8     8\n",
      "50   -122.4015   47.6105   8     8     8\n",
      "271  -122.3201   47.5646   8     8     8\n",
      "553  -122.2725   47.6485   8     8     8\n",
      "559  -122.2725   47.6491   9     9     9\n",
      "435  -122.3028   47.6033   9     9     9\n",
      "433  -122.3028   47.6031  10    10    10\n",
      "92   -122.3747   47.5937  10    10    10\n",
      "431  -122.3028   47.6029  13    13    13\n"
     ]
    }
   ],
   "source": [
    "# keep only the points with occurrence > 5\n",
    "filtered_df = groups[groups[\"id\"]>5]\n",
    "print(filtered_df)"
   ]
  },
  {
   "cell_type": "code",
   "execution_count": 107,
   "metadata": {},
   "outputs": [
    {
     "name": "stdout",
     "output_type": "stream",
     "text": [
      "         date_x    time_x\n",
      "0    2020-01-01  00:15:18\n",
      "1    2020-01-01  00:15:55\n",
      "2    2020-01-01  00:18:22\n",
      "3    2020-01-01  00:18:59\n",
      "4    2020-01-01  00:20:52\n",
      "..          ...       ...\n",
      "294  2020-01-01  22:22:42\n",
      "295  2020-01-01  22:30:13\n",
      "296  2020-01-01  22:33:17\n",
      "297  2020-01-01  22:35:45\n",
      "298  2020-01-01  22:48:10\n",
      "\n",
      "[299 rows x 2 columns]\n"
     ]
    }
   ],
   "source": [
    "# merge filtered with rounded\n",
    "merged1 = pd.merge(rounded_df, filtered_df, on=[\"latitude\",\"longitude\"])\n",
    "merged1 = merged1.drop([\"id_x\", \"id_y\",\"date_y\", \"time_y\", \"longitude\", \"latitude\"], axis=1)\n",
    "print(merged1)"
   ]
  },
  {
   "cell_type": "code",
   "execution_count": 108,
   "metadata": {},
   "outputs": [
    {
     "name": "stdout",
     "output_type": "stream",
     "text": [
      "       id   longitude   latitude        date      time\n",
      "0    I000 -122.335171  47.606657  2020-01-01  00:15:18\n",
      "1    I000 -122.335170  47.606670  2020-01-01  00:15:55\n",
      "2    I000 -122.335170  47.606690  2020-01-01  00:18:22\n",
      "3    I000 -122.335170  47.606689  2020-01-01  00:18:59\n",
      "4    I000 -122.335170  47.606662  2020-01-01  00:20:52\n",
      "..    ...         ...        ...         ...       ...\n",
      "294  I000 -122.333503  47.670419  2020-01-01  23:16:22\n",
      "295  I000 -122.333503  47.670392  2020-01-01  23:17:02\n",
      "296  I000 -122.333503  47.670391  2020-01-01  23:17:45\n",
      "297  I000 -122.333502  47.670631  2020-01-01  23:25:42\n",
      "298  I000 -122.333502  47.670628  2020-01-01  23:30:10\n",
      "\n",
      "[299 rows x 5 columns]\n"
     ]
    }
   ],
   "source": [
    "# merge first day with filtered to keep only the points with occurrence > 5\n",
    "merged2 = pd.merge(first_day, merged1, left_on=[\"date\",\"time\"], right_on=[\"date_x\",\"time_x\"])\n",
    "merged2 = merged2.drop([\"date_x\", \"time_x\"], axis=1)\n",
    "print(merged2)"
   ]
  },
  {
   "cell_type": "code",
   "execution_count": 109,
   "metadata": {},
   "outputs": [
    {
     "name": "stdout",
     "output_type": "stream",
     "text": [
      "      longitude   latitude\n",
      "0   -122.335171  47.606657\n",
      "1   -122.335170  47.606670\n",
      "2   -122.335170  47.606690\n",
      "3   -122.335170  47.606689\n",
      "4   -122.335170  47.606662\n",
      "..          ...        ...\n",
      "294 -122.333503  47.670419\n",
      "295 -122.333503  47.670392\n",
      "296 -122.333503  47.670391\n",
      "297 -122.333502  47.670631\n",
      "298 -122.333502  47.670628\n",
      "\n",
      "[299 rows x 2 columns]\n"
     ]
    }
   ],
   "source": [
    "print(merged2[[\"longitude\", \"latitude\"]])"
   ]
  },
  {
   "cell_type": "code",
   "execution_count": 110,
   "metadata": {},
   "outputs": [
    {
     "name": "stdout",
     "output_type": "stream",
     "text": [
      "       id   longitude   latitude        date      time  cluster\n",
      "0    I000 -122.335171  47.606657  2020-01-01  00:15:18       -1\n",
      "1    I000 -122.335170  47.606670  2020-01-01  00:15:55       -1\n",
      "2    I000 -122.335170  47.606690  2020-01-01  00:18:22       -1\n",
      "3    I000 -122.335170  47.606689  2020-01-01  00:18:59       -1\n",
      "4    I000 -122.335170  47.606662  2020-01-01  00:20:52       -1\n",
      "..    ...         ...        ...         ...       ...      ...\n",
      "294  I000 -122.333503  47.670419  2020-01-01  23:16:22       -1\n",
      "295  I000 -122.333503  47.670392  2020-01-01  23:17:02       -1\n",
      "296  I000 -122.333503  47.670391  2020-01-01  23:17:45       -1\n",
      "297  I000 -122.333502  47.670631  2020-01-01  23:25:42       -1\n",
      "298  I000 -122.333502  47.670628  2020-01-01  23:30:10       -1\n",
      "\n",
      "[299 rows x 6 columns]\n"
     ]
    }
   ],
   "source": [
    "scaler = StandardScaler()\n",
    "points = merged2[[\"longitude\", \"latitude\"]]\n",
    "scaled_df = scaler.fit_transform(points)\n",
    "\n",
    "# create clusterer\n",
    "clusterer = hdbscan.HDBSCAN(min_cluster_size=15)\n",
    "# labels assigns each point to a cluster\n",
    "labels = clusterer.fit_predict(scaled_df)\n",
    "\n",
    "# add the clusters to the df\n",
    "merged2['cluster'] = labels\n",
    "\n",
    "print(merged2)"
   ]
  },
  {
   "cell_type": "code",
   "execution_count": 111,
   "metadata": {},
   "outputs": [
    {
     "name": "stdout",
     "output_type": "stream",
     "text": [
      "   cluster  id  longitude  latitude  date  time\n",
      "0       -1  32         32        32    32    32\n",
      "1        0  25         25        25    25    25\n",
      "2        1  42         42        42    42    42\n",
      "3        2  19         19        19    19    19\n",
      "4        3  51         51        51    51    51\n",
      "5        4  59         59        59    59    59\n",
      "6        5  45         45        45    45    45\n",
      "7        6  26         26        26    26    26\n"
     ]
    }
   ],
   "source": [
    "# see how many points are per cluster\n",
    "print(merged2.groupby(\"cluster\").count().reset_index())"
   ]
  },
  {
   "cell_type": "code",
   "execution_count": 113,
   "metadata": {},
   "outputs": [
    {
     "data": {
      "text/plain": [
       "<matplotlib.collections.PathCollection at 0x162ddf036d0>"
      ]
     },
     "execution_count": 113,
     "metadata": {},
     "output_type": "execute_result"
    },
    {
     "data": {
      "image/png": "[encoded data removed]",
      "text/plain": [
       "<Figure size 640x480 with 1 Axes>"
      ]
     },
     "metadata": {},
     "output_type": "display_data"
    }
   ],
   "source": [
    "# visualize clusters\n",
    "color_palette = sns.color_palette('deep', 8)\n",
    "cluster_colors = [color_palette[x] if x >= 0\n",
    "                  else (0.5, 0.5, 0.5)\n",
    "                  for x in labels]\n",
    "cluster_member_colors = [sns.desaturate(x, p) for x, p in\n",
    "                         zip(cluster_colors, clusterer.probabilities_)]\n",
    "plt.scatter(points[\"longitude\"], points[\"latitude\"], s=50, linewidth=0, c=cluster_member_colors, alpha=0.25)"
   ]
  }
 ],
 "metadata": {
  "kernelspec": {
   "display_name": "Python 3",
   "language": "python",
   "name": "python3"
  },
  "language_info": {
   "codemirror_mode": {
    "name": "ipython",
    "version": 3
   },
   "file_extension": ".py",
   "mimetype": "text/x-python",
   "name": "python",
   "nbconvert_exporter": "python",
   "pygments_lexer": "ipython3",
   "version": "3.10.11"
  }
 },
 "nbformat": 4,
 "nbformat_minor": 2
}
