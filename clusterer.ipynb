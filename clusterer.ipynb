{
 "cells": [
  {
   "cell_type": "markdown",
   "metadata": {},
   "source": [
    "<h1> Notebook showing the clustering of data id \"IOOO\" on 2020-01-01 </h1>"
   ]
  },
  {
   "cell_type": "markdown",
   "metadata": {},
   "source": [
    "<h3> Documentation for hdbscan library in python: </h3>\n",
    "<a> https://cran.r-project.org/web/packages/dbscan/vignettes/hdbscan.html </a>"
   ]
  },
  {
   "cell_type": "code",
   "execution_count": 17,
   "metadata": {},
   "outputs": [],
   "source": [
    "# import libraries needed\n",
    "import pandas as pd\n",
    "import hdbscan\n",
    "# import matplotlib.pyplot as plt\n",
    "# import seaborn as sns\n",
    "from sklearn.preprocessing import StandardScaler\n"
   ]
  },
  {
   "cell_type": "code",
   "execution_count": 18,
   "metadata": {},
   "outputs": [
    {
     "name": "stdout",
     "output_type": "stream",
     "text": [
      "          id   longitude   latitude        date      time\n",
      "0       I000 -122.335167  47.608013  2020-01-01  00:00:00\n",
      "1       I000 -122.335168  47.608002  2020-01-01  00:01:07\n",
      "2       I000 -122.335169  47.608598  2020-01-01  00:02:30\n",
      "3       I000 -122.335168  47.608501  2020-01-01  00:03:40\n",
      "4       I000 -122.335169  47.607648  2020-01-01  00:05:07\n",
      "...      ...         ...        ...         ...       ...\n",
      "526483  I000 -122.426741  47.572358  2020-12-30  23:56:41\n",
      "526484  I000 -122.426741  47.572356  2020-12-30  23:57:14\n",
      "526485  I000 -122.426741  47.572213  2020-12-30  23:58:03\n",
      "526486  I000 -122.316388  47.618509  2020-12-30  23:59:13\n",
      "526487  I000 -122.316388  47.617609  2020-12-31  00:00:26\n",
      "\n",
      "[526488 rows x 5 columns]\n"
     ]
    }
   ],
   "source": [
    "# load data\n",
    "user0_df = pd.read_csv(\"./CleanData/movements_0.csv\")\n",
    "\n",
    "print(user0_df)"
   ]
  },
  {
   "cell_type": "code",
   "execution_count": 19,
   "metadata": {},
   "outputs": [
    {
     "name": "stdout",
     "output_type": "stream",
     "text": [
      "        id   longitude   latitude        date      time\n",
      "0     I000 -122.335167  47.608013  2020-01-01  00:00:00\n",
      "1     I000 -122.335168  47.608002  2020-01-01  00:01:07\n",
      "2     I000 -122.335169  47.608598  2020-01-01  00:02:30\n",
      "3     I000 -122.335168  47.608501  2020-01-01  00:03:40\n",
      "4     I000 -122.335169  47.607648  2020-01-01  00:05:07\n",
      "...    ...         ...        ...         ...       ...\n",
      "1442  I000 -122.381754  47.543701  2020-01-01  23:55:41\n",
      "1443  I000 -122.381754  47.543135  2020-01-01  23:56:38\n",
      "1444  I000 -122.381754  47.543680  2020-01-01  23:57:26\n",
      "1445  I000 -122.381754  47.543708  2020-01-01  23:58:39\n",
      "1446  I000 -122.381755  47.543255  2020-01-01  23:59:29\n",
      "\n",
      "[1447 rows x 5 columns]\n"
     ]
    }
   ],
   "source": [
    "# let's start off with just the first day of data\n",
    "first_day = user0_df[user0_df[\"date\"]==\"2020-01-01\"]\n",
    "print(first_day)"
   ]
  },
  {
   "cell_type": "code",
   "execution_count": 20,
   "metadata": {},
   "outputs": [
    {
     "name": "stdout",
     "output_type": "stream",
     "text": [
      "        id   longitude   latitude        date      time\n",
      "1447  I000 -122.381755  47.543587  2020-01-02  00:00:21\n",
      "1448  I000 -122.381755  47.543587  2020-01-02  00:00:00\n",
      "1449  I000 -122.381755  47.543594  2020-01-02  00:01:23\n",
      "1450  I000 -122.381755  47.543652  2020-01-02  00:02:52\n",
      "1451  I000 -122.381755  47.544204  2020-01-02  00:03:41\n",
      "...    ...         ...        ...         ...       ...\n",
      "2876  I000 -122.426741  47.572280  2020-01-02  23:54:57\n",
      "2877  I000 -122.426741  47.572247  2020-01-02  23:56:17\n",
      "2878  I000 -122.426740  47.572483  2020-01-02  23:57:43\n",
      "2879  I000 -122.426740  47.572447  2020-01-02  23:58:21\n",
      "2880  I000 -122.426740  47.572464  2020-01-02  23:59:48\n",
      "\n",
      "[1434 rows x 5 columns]\n"
     ]
    }
   ],
   "source": [
    "second_day = user0_df[user0_df[\"date\"]==\"2020-01-02\"]\n",
    "print(second_day)"
   ]
  },
  {
   "cell_type": "code",
   "execution_count": 21,
   "metadata": {},
   "outputs": [
    {
     "name": "stdout",
     "output_type": "stream",
     "text": [
      "        id   longitude   latitude        date      time\n",
      "2881  I000 -122.426741  47.573026  2020-01-03  00:01:10\n",
      "2882  I000 -122.426741  47.573026  2020-01-03  00:00:00\n",
      "2883  I000 -122.426741  47.573723  2020-01-03  00:01:17\n",
      "2884  I000 -122.426741  47.573256  2020-01-03  00:01:58\n",
      "2885  I000 -122.426741  47.573261  2020-01-03  00:03:05\n",
      "...    ...         ...        ...         ...       ...\n",
      "4337  I000 -122.401519  47.610212  2020-01-03  23:54:51\n",
      "4338  I000 -122.401518  47.610148  2020-01-03  23:56:20\n",
      "4339  I000 -122.426740  47.572239  2020-01-03  23:57:24\n",
      "4340  I000 -122.426741  47.572172  2020-01-03  23:58:40\n",
      "4341  I000 -122.426741  47.572320  2020-01-03  23:59:54\n",
      "\n",
      "[1461 rows x 5 columns]\n"
     ]
    }
   ],
   "source": [
    "third_day = user0_df[user0_df[\"date\"]==\"2020-01-03\"]\n",
    "print(third_day)"
   ]
  },
  {
   "cell_type": "code",
   "execution_count": 22,
   "metadata": {},
   "outputs": [
    {
     "name": "stdout",
     "output_type": "stream",
     "text": [
      "        id   longitude   latitude        date      time\n",
      "4342  I000 -122.426741  47.572793  2020-01-04  00:00:49\n",
      "4343  I000 -122.426741  47.572793  2020-01-04  00:00:00\n",
      "4344  I000 -122.426742  47.572599  2020-01-04  00:01:30\n",
      "4345  I000 -122.426742  47.573146  2020-01-04  00:02:59\n",
      "4346  I000 -122.426741  47.573272  2020-01-04  00:04:28\n",
      "...    ...         ...        ...         ...       ...\n",
      "5788  I000 -122.310673  47.624838  2020-01-04  23:56:14\n",
      "5789  I000 -122.310673  47.624979  2020-01-04  23:56:50\n",
      "5790  I000 -122.310674  47.625107  2020-01-04  23:57:23\n",
      "5791  I000 -122.310673  47.624658  2020-01-04  23:58:34\n",
      "5792  I000 -122.310674  47.624875  2020-01-04  23:59:47\n",
      "\n",
      "[1451 rows x 5 columns]\n"
     ]
    }
   ],
   "source": [
    "fourth_day = user0_df[user0_df[\"date\"]==\"2020-01-04\"]\n",
    "print(fourth_day)"
   ]
  },
  {
   "cell_type": "code",
   "execution_count": 23,
   "metadata": {},
   "outputs": [
    {
     "name": "stdout",
     "output_type": "stream",
     "text": [
      "        id   longitude   latitude        date      time\n",
      "5793  I000 -122.310674  47.625058  2020-01-05  00:00:29\n",
      "5794  I000 -122.310674  47.625058  2020-01-05  00:00:00\n",
      "5795  I000 -122.310674  47.625194  2020-01-05  00:00:52\n",
      "5796  I000 -122.310674  47.624954  2020-01-05  00:01:40\n",
      "5797  I000 -122.310674  47.625466  2020-01-05  00:02:58\n",
      "...    ...         ...        ...         ...       ...\n",
      "7246  I000 -122.358590  47.583690  2020-01-05  23:55:15\n",
      "7247  I000 -122.302819  47.603134  2020-01-05  23:56:38\n",
      "7248  I000 -122.302819  47.603109  2020-01-05  23:57:08\n",
      "7249  I000 -122.302818  47.603529  2020-01-05  23:57:51\n",
      "7250  I000 -122.302817  47.602916  2020-01-05  23:59:17\n",
      "\n",
      "[1458 rows x 5 columns]\n"
     ]
    }
   ],
   "source": [
    "fifth_day = user0_df[user0_df[\"date\"]==\"2020-01-05\"]\n",
    "print(fifth_day)"
   ]
  },
  {
   "cell_type": "code",
   "execution_count": 24,
   "metadata": {},
   "outputs": [
    {
     "name": "stdout",
     "output_type": "stream",
     "text": [
      "        id   longitude   latitude        date      time\n",
      "7251  I000 -122.302817  47.603304  2020-01-06  00:00:31\n",
      "7252  I000 -122.302817  47.603304  2020-01-06  00:00:00\n",
      "7253  I000 -122.333503  47.670401  2020-01-06  00:00:37\n",
      "7254  I000 -122.333503  47.670340  2020-01-06  00:01:46\n",
      "7255  I000 -122.333503  47.670437  2020-01-06  00:02:22\n",
      "...    ...         ...        ...         ...       ...\n",
      "8675  I000 -122.317918  47.592392  2020-01-06  23:56:49\n",
      "8676  I000 -122.317918  47.592741  2020-01-06  23:57:29\n",
      "8677  I000 -122.317918  47.592082  2020-01-06  23:58:42\n",
      "8678  I000 -122.317918  47.591948  2020-01-06  23:59:17\n",
      "8679  I000 -122.317918  47.591892  2020-01-06  23:59:54\n",
      "\n",
      "[1429 rows x 5 columns]\n"
     ]
    }
   ],
   "source": [
    "sixth_day = user0_df[user0_df[\"date\"]==\"2020-01-06\"]\n",
    "print(sixth_day)"
   ]
  },
  {
   "cell_type": "code",
   "execution_count": 25,
   "metadata": {},
   "outputs": [
    {
     "name": "stdout",
     "output_type": "stream",
     "text": [
      "         id   longitude   latitude        date      time\n",
      "8680   I000 -122.317917  47.591709  2020-01-07  00:01:05\n",
      "8681   I000 -122.317917  47.591709  2020-01-07  00:00:00\n",
      "8682   I000 -122.317919  47.591836  2020-01-07  00:01:13\n",
      "8683   I000 -122.317919  47.591838  2020-01-07  00:01:46\n",
      "8684   I000 -122.317919  47.592136  2020-01-07  00:02:40\n",
      "...     ...         ...        ...         ...       ...\n",
      "10130  I000 -122.333503  47.670684  2020-01-07  23:55:44\n",
      "10131  I000 -122.333503  47.670778  2020-01-07  23:56:58\n",
      "10132  I000 -122.333502  47.670814  2020-01-07  23:57:39\n",
      "10133  I000 -122.333502  47.671161  2020-01-07  23:58:16\n",
      "10134  I000 -122.333502  47.671214  2020-01-07  23:58:51\n",
      "\n",
      "[1455 rows x 5 columns]\n"
     ]
    }
   ],
   "source": [
    "seventh_day = user0_df[user0_df[\"date\"]==\"2020-01-07\"]\n",
    "print(seventh_day)"
   ]
  },
  {
   "cell_type": "code",
   "execution_count": 26,
   "metadata": {},
   "outputs": [
    {
     "name": "stdout",
     "output_type": "stream",
     "text": [
      "         id   longitude   latitude        date      time\n",
      "0      I000 -122.335167  47.608013  2020-01-01  00:00:00\n",
      "1      I000 -122.335168  47.608002  2020-01-01  00:01:07\n",
      "2      I000 -122.335169  47.608598  2020-01-01  00:02:30\n",
      "3      I000 -122.335168  47.608501  2020-01-01  00:03:40\n",
      "4      I000 -122.335169  47.607648  2020-01-01  00:05:07\n",
      "...     ...         ...        ...         ...       ...\n",
      "10130  I000 -122.333503  47.670684  2020-01-07  23:55:44\n",
      "10131  I000 -122.333503  47.670778  2020-01-07  23:56:58\n",
      "10132  I000 -122.333502  47.670814  2020-01-07  23:57:39\n",
      "10133  I000 -122.333502  47.671161  2020-01-07  23:58:16\n",
      "10134  I000 -122.333502  47.671214  2020-01-07  23:58:51\n",
      "\n",
      "[10135 rows x 5 columns]\n"
     ]
    }
   ],
   "source": [
    "# let's create week long sample by concatinating the previously extracted 7 days\n",
    "first_week = pd.concat([first_day, second_day, third_day, fourth_day, fifth_day, sixth_day, seventh_day], ignore_index=True)\n",
    "print(first_week)"
   ]
  },
  {
   "cell_type": "code",
   "execution_count": 27,
   "metadata": {},
   "outputs": [
    {
     "name": "stdout",
     "output_type": "stream",
     "text": [
      "         id   longitude   latitude        date      time\n",
      "0      I000 -122.335167  47.608013  2020-01-01  00:00:00\n",
      "1      I000 -122.335168  47.608002  2020-01-01  00:01:07\n",
      "2      I000 -122.335169  47.608598  2020-01-01  00:02:30\n",
      "3      I000 -122.335168  47.608501  2020-01-01  00:03:40\n",
      "4      I000 -122.335169  47.607648  2020-01-01  00:05:07\n",
      "...     ...         ...        ...         ...       ...\n",
      "44784  I000 -122.352144  47.601679  2020-01-31  23:53:59\n",
      "44785  I000 -122.352144  47.601773  2020-01-31  23:55:10\n",
      "44786  I000 -122.310665  47.623651  2020-01-31  23:56:25\n",
      "44787  I000 -122.310666  47.624375  2020-01-31  23:57:50\n",
      "44788  I000 -122.310665  47.624342  2020-01-31  23:59:01\n",
      "\n",
      "[44789 rows x 5 columns]\n"
     ]
    }
   ],
   "source": [
    "# let's extract a month long sample from the data\n",
    "first_month = user0_df[user0_df[\"date\"].str.split('-').str[1]==\"01\"]\n",
    "print(first_month)"
   ]
  },
  {
   "cell_type": "markdown",
   "metadata": {},
   "source": [
    "<h2> How accurate does lat long need to be? Can we round? </h2>\n",
    "<p> So, as you can see from the table below, a lat/long rounded up to a single decimal place can accurately identify a country or region, whereas rounded up to two could identify a large city or district. But five decimal places can accurately hone in on an individual tree, and six can identify a person. </p>\n",
    "<a> https://blis.com/precision-matters-critical-importance-decimal-places-five-lowest-go/ </a>\n",
    "<p> Therefore; we can round down to 4 if needed as it \"Can identify an individual street or parcel of land\" and has a distance of 11.1 meters. </p>"
   ]
  },
  {
   "cell_type": "code",
   "execution_count": 28,
   "metadata": {},
   "outputs": [],
   "source": [
    "def filter_travel_points(df, freq):\n",
    "    # round to 4 decimal places\n",
    "    rounded_df = df[[\"longitude\", \"latitude\"]].round(4)\n",
    "    rounded_df[[\"id\",\"date\",\"time\"]] = df[[\"id\",\"date\",\"time\"]]\n",
    "\n",
    "    # group by (latitude,longitude) points to see most visited streets/parcels of land of about 11m in distance\n",
    "    grouped_df = rounded_df.groupby([\"longitude\", \"latitude\"]).count().reset_index().sort_values(\"id\")\n",
    "    \n",
    "    # keep only the points with occurrence > freq\n",
    "    filtered_df = grouped_df[grouped_df[\"id\"]>freq]\n",
    "\n",
    "    # merge filtered with rounded\n",
    "    merged1 = pd.merge(rounded_df, filtered_df, on=[\"latitude\",\"longitude\"])\n",
    "    # remove unnecessary columns\n",
    "    merged1 = merged1.drop([\"id_x\", \"id_y\",\"date_y\", \"time_y\", \"longitude\", \"latitude\"], axis=1)\n",
    "    \n",
    "    # merge original df with filtered to keep only the points with occurrence > 5\n",
    "    merged2 = pd.merge(df, merged1, left_on=[\"date\",\"time\"], right_on=[\"date_x\",\"time_x\"])\n",
    "    # remove unnecessary columns (repeats)\n",
    "    merged2 = merged2.drop([\"date_x\", \"time_x\"], axis=1)\n",
    "\n",
    "    return merged2\n",
    "\n"
   ]
  },
  {
   "cell_type": "code",
   "execution_count": 50,
   "metadata": {},
   "outputs": [
    {
     "name": "stdout",
     "output_type": "stream",
     "text": [
      "       id   longitude   latitude        date      time\n",
      "0    I000 -122.374718  47.593698  2020-01-01  00:38:02\n",
      "1    I000 -122.374718  47.593727  2020-01-01  00:38:42\n",
      "2    I000 -122.374718  47.594143  2020-01-01  00:43:52\n",
      "3    I000 -122.374718  47.593698  2020-01-01  02:13:39\n",
      "4    I000 -122.333503  47.670401  2020-01-01  05:37:20\n",
      "..    ...         ...        ...         ...       ...\n",
      "150  I000 -122.333502  47.670388  2020-01-01  23:13:09\n",
      "151  I000 -122.333503  47.670426  2020-01-01  23:13:45\n",
      "152  I000 -122.333503  47.670419  2020-01-01  23:16:22\n",
      "153  I000 -122.333503  47.670392  2020-01-01  23:17:02\n",
      "154  I000 -122.333503  47.670391  2020-01-01  23:17:45\n",
      "\n",
      "[155 rows x 5 columns]\n"
     ]
    }
   ],
   "source": [
    "\n",
    "# filter df and check results\n",
    "day_filtered_df = filter_travel_points(first_day, 6)\n",
    "print(day_filtered_df)"
   ]
  },
  {
   "cell_type": "code",
   "execution_count": 90,
   "metadata": {},
   "outputs": [
    {
     "name": "stdout",
     "output_type": "stream",
     "text": [
      "       id   longitude   latitude        date      time\n",
      "0    I000 -122.374718  47.593698  2020-01-01  00:38:02\n",
      "1    I000 -122.374718  47.593727  2020-01-01  00:38:42\n",
      "2    I000 -122.426740  47.572239  2020-01-01  01:18:46\n",
      "3    I000 -122.426740  47.572203  2020-01-01  01:19:26\n",
      "4    I000 -122.317921  47.592167  2020-01-01  01:41:47\n",
      "..    ...         ...        ...         ...       ...\n",
      "884  I000 -122.381754  47.544480  2020-01-07  23:11:23\n",
      "885  I000 -122.333503  47.670401  2020-01-07  23:50:52\n",
      "886  I000 -122.333503  47.670204  2020-01-07  23:51:29\n",
      "887  I000 -122.333503  47.670207  2020-01-07  23:52:02\n",
      "888  I000 -122.333503  47.670238  2020-01-07  23:52:49\n",
      "\n",
      "[889 rows x 5 columns]\n"
     ]
    }
   ],
   "source": [
    "# repeat for week sample\n",
    "week_filtered_df = filter_travel_points(first_week, 30)\n",
    "print(week_filtered_df)"
   ]
  },
  {
   "cell_type": "code",
   "execution_count": 91,
   "metadata": {},
   "outputs": [
    {
     "name": "stdout",
     "output_type": "stream",
     "text": [
      "        id   longitude   latitude        date      time\n",
      "0     I000 -122.374718  47.593698  2020-01-01  00:38:02\n",
      "1     I000 -122.374718  47.593727  2020-01-01  00:38:42\n",
      "2     I000 -122.426740  47.572239  2020-01-01  01:18:46\n",
      "3     I000 -122.426740  47.572203  2020-01-01  01:19:26\n",
      "4     I000 -122.317921  47.592167  2020-01-01  01:41:47\n",
      "...    ...         ...        ...         ...       ...\n",
      "3919  I000 -122.317921  47.592167  2020-01-31  23:30:25\n",
      "3920  I000 -122.317919  47.592235  2020-01-31  23:33:57\n",
      "3921  I000 -122.352143  47.602017  2020-01-31  23:40:03\n",
      "3922  I000 -122.352144  47.602006  2020-01-31  23:41:30\n",
      "3923  I000 -122.310665  47.623651  2020-01-31  23:56:25\n",
      "\n",
      "[3924 rows x 5 columns]\n"
     ]
    }
   ],
   "source": [
    "# repeat for month sample\n",
    "month_filtered_df = filter_travel_points(first_month, 150)\n",
    "print(month_filtered_df)"
   ]
  },
  {
   "cell_type": "code",
   "execution_count": 51,
   "metadata": {},
   "outputs": [],
   "source": [
    "# save filtered data to csv\n",
    "day_filtered_df.to_csv(\"./FilteredData/day_round_filtered_0.csv\", index=False)\n",
    "week_filtered_df.to_csv(\"./FilteredData/week_round_filtered_0.csv\", index=False)\n",
    "month_filtered_df.to_csv(\"./FilteredData/month_round_filtered_0.csv\", index=False)"
   ]
  },
  {
   "cell_type": "markdown",
   "metadata": {},
   "source": [
    "<h3> Create function to form clusters from the dataset </h3>"
   ]
  },
  {
   "cell_type": "code",
   "execution_count": 52,
   "metadata": {},
   "outputs": [],
   "source": [
    "def create_clusters(df, min_size):\n",
    "    scaler = StandardScaler()\n",
    "    points = df[[\"longitude\", \"latitude\"]]\n",
    "    scaled_df = scaler.fit_transform(points)\n",
    "\n",
    "    # create clusterer\n",
    "    clusterer = hdbscan.HDBSCAN(min_cluster_size=min_size)\n",
    "\n",
    "    # labels assigns each point to a cluster\n",
    "    labels = clusterer.fit_predict(scaled_df)\n",
    "\n",
    "    # add the clusters to the df\n",
    "    result = df\n",
    "    result[\"cluster_label\"] = labels\n",
    "\n",
    "    return result\n"
   ]
  },
  {
   "cell_type": "code",
   "execution_count": 69,
   "metadata": {},
   "outputs": [
    {
     "name": "stdout",
     "output_type": "stream",
     "text": [
      "       id   longitude   latitude        date      time  cluster_label\n",
      "0    I000 -122.374718  47.593698  2020-01-01  00:38:02              2\n",
      "1    I000 -122.374718  47.593727  2020-01-01  00:38:42              2\n",
      "2    I000 -122.374718  47.594143  2020-01-01  00:43:52              3\n",
      "3    I000 -122.374718  47.593698  2020-01-01  02:13:39              2\n",
      "4    I000 -122.333503  47.670401  2020-01-01  05:37:20              1\n",
      "..    ...         ...        ...         ...       ...            ...\n",
      "150  I000 -122.333502  47.670388  2020-01-01  23:13:09              1\n",
      "151  I000 -122.333503  47.670426  2020-01-01  23:13:45              1\n",
      "152  I000 -122.333503  47.670419  2020-01-01  23:16:22              1\n",
      "153  I000 -122.333503  47.670392  2020-01-01  23:17:02              1\n",
      "154  I000 -122.333503  47.670391  2020-01-01  23:17:45              1\n",
      "\n",
      "[155 rows x 6 columns]\n"
     ]
    }
   ],
   "source": [
    "# create clusters from filtered data\n",
    "day_cluster_df = create_clusters(day_filtered_df, 5)\n",
    "print(day_cluster_df)"
   ]
  },
  {
   "cell_type": "code",
   "execution_count": 70,
   "metadata": {},
   "outputs": [
    {
     "name": "stdout",
     "output_type": "stream",
     "text": [
      "       id   longitude   latitude        date      time  cluster_label\n",
      "0    I000 -122.374718  47.593698  2020-01-01  00:38:02             14\n",
      "1    I000 -122.374718  47.593727  2020-01-01  00:38:42             14\n",
      "2    I000 -122.426740  47.572239  2020-01-01  01:18:46              7\n",
      "3    I000 -122.426740  47.572203  2020-01-01  01:19:26              7\n",
      "4    I000 -122.317921  47.592167  2020-01-01  01:41:47             12\n",
      "..    ...         ...        ...         ...       ...            ...\n",
      "884  I000 -122.381754  47.544480  2020-01-07  23:11:23              0\n",
      "885  I000 -122.333503  47.670401  2020-01-07  23:50:52              2\n",
      "886  I000 -122.333503  47.670204  2020-01-07  23:51:29              1\n",
      "887  I000 -122.333503  47.670207  2020-01-07  23:52:02              1\n",
      "888  I000 -122.333503  47.670238  2020-01-07  23:52:49              1\n",
      "\n",
      "[889 rows x 6 columns]\n"
     ]
    }
   ],
   "source": [
    "week_cluster_df = create_clusters(week_filtered_df, 30)\n",
    "print(week_cluster_df)"
   ]
  },
  {
   "cell_type": "code",
   "execution_count": 71,
   "metadata": {},
   "outputs": [
    {
     "name": "stdout",
     "output_type": "stream",
     "text": [
      "        id   longitude   latitude        date      time  cluster_label\n",
      "0     I000 -122.374718  47.593698  2020-01-01  00:38:02             17\n",
      "1     I000 -122.374718  47.593727  2020-01-01  00:38:42             17\n",
      "2     I000 -122.426740  47.572239  2020-01-01  01:18:46              4\n",
      "3     I000 -122.426740  47.572203  2020-01-01  01:19:26              4\n",
      "4     I000 -122.371733  47.689251  2020-01-01  01:20:42              2\n",
      "...    ...         ...        ...         ...       ...            ...\n",
      "4317  I000 -122.317921  47.592167  2020-01-31  23:30:25             15\n",
      "4318  I000 -122.317919  47.592235  2020-01-31  23:33:57             15\n",
      "4319  I000 -122.352143  47.602017  2020-01-31  23:40:03             22\n",
      "4320  I000 -122.352144  47.602006  2020-01-31  23:41:30             22\n",
      "4321  I000 -122.310665  47.623651  2020-01-31  23:56:25             10\n",
      "\n",
      "[4322 rows x 6 columns]\n"
     ]
    }
   ],
   "source": [
    "month_cluster_df = create_clusters(month_filtered_df, 100)\n",
    "print(month_cluster_df)"
   ]
  },
  {
   "cell_type": "markdown",
   "metadata": {},
   "source": [
    "<h3> List each cluster with the number of points found in it </h3>"
   ]
  },
  {
   "cell_type": "code",
   "execution_count": 72,
   "metadata": {},
   "outputs": [
    {
     "name": "stdout",
     "output_type": "stream",
     "text": [
      "    cluster_label  id  longitude  latitude  date  time\n",
      "0              -1   5          5         5     5     5\n",
      "14             13   7          7         7     7     7\n",
      "13             12   7          7         7     7     7\n",
      "12             11   7          7         7     7     7\n",
      "9               8   7          7         7     7     7\n",
      "7               6   7          7         7     7     7\n",
      "17             16   7          7         7     7     7\n",
      "4               3   7          7         7     7     7\n",
      "10              9   8          8         8     8     8\n",
      "11             10   8          8         8     8     8\n",
      "2               1   8          8         8     8     8\n",
      "1               0   8          8         8     8     8\n",
      "8               7   8          8         8     8     8\n",
      "6               5   9          9         9     9     9\n",
      "3               2  10         10        10    10    10\n",
      "15             14  13         13        13    13    13\n",
      "16             15  14         14        14    14    14\n",
      "5               4  15         15        15    15    15\n"
     ]
    }
   ],
   "source": [
    "# see how many points are per cluster\n",
    "print(day_cluster_df.groupby(\"cluster_label\").count().reset_index().sort_values(\"id\"))"
   ]
  },
  {
   "cell_type": "code",
   "execution_count": 73,
   "metadata": {},
   "outputs": [
    {
     "name": "stdout",
     "output_type": "stream",
     "text": [
      "    cluster_label   id  longitude  latitude  date  time\n",
      "13             13   31         31        31    31    31\n",
      "6               6   31         31        31    31    31\n",
      "10             10   32         32        32    32    32\n",
      "0               0   33         33        33    33    33\n",
      "1               1   35         35        35    35    35\n",
      "9               9   36         36        36    36    36\n",
      "19             19   36         36        36    36    36\n",
      "15             15   37         37        37    37    37\n",
      "16             16   37         37        37    37    37\n",
      "18             18   39         39        39    39    39\n",
      "7               7   42         42        42    42    42\n",
      "3               3   43         43        43    43    43\n",
      "12             12   43         43        43    43    43\n",
      "14             14   43         43        43    43    43\n",
      "4               4   45         45        45    45    45\n",
      "5               5   47         47        47    47    47\n",
      "8               8   48         48        48    48    48\n",
      "11             11   49         49        49    49    49\n",
      "17             17   56         56        56    56    56\n",
      "2               2  126        126       126   126   126\n"
     ]
    }
   ],
   "source": [
    "print(week_cluster_df.groupby(\"cluster_label\").count().reset_index().sort_values(\"id\"))"
   ]
  },
  {
   "cell_type": "code",
   "execution_count": 74,
   "metadata": {},
   "outputs": [
    {
     "name": "stdout",
     "output_type": "stream",
     "text": [
      "    cluster_label   id  longitude  latitude  date  time\n",
      "19             19  119        119       119   119   119\n",
      "6               6  137        137       137   137   137\n",
      "2               2  142        142       142   142   142\n",
      "20             20  151        151       151   151   151\n",
      "21             21  152        152       152   152   152\n",
      "22             22  158        158       158   158   158\n",
      "23             23  159        159       159   159   159\n",
      "16             16  167        167       167   167   167\n",
      "12             12  168        168       168   168   168\n",
      "9               9  169        169       169   169   169\n",
      "4               4  170        170       170   170   170\n",
      "0               0  171        171       171   171   171\n",
      "3               3  171        171       171   171   171\n",
      "24             24  177        177       177   177   177\n",
      "15             15  178        178       178   178   178\n",
      "5               5  178        178       178   178   178\n",
      "17             17  179        179       179   179   179\n",
      "18             18  181        181       181   181   181\n",
      "14             14  182        182       182   182   182\n",
      "13             13  188        188       188   188   188\n",
      "11             11  192        192       192   192   192\n",
      "8               8  203        203       203   203   203\n",
      "10             10  208        208       208   208   208\n",
      "7               7  211        211       211   211   211\n",
      "1               1  211        211       211   211   211\n"
     ]
    }
   ],
   "source": [
    "print(month_cluster_df.groupby(\"cluster_label\").count().reset_index().sort_values(\"id\"))"
   ]
  },
  {
   "cell_type": "markdown",
   "metadata": {},
   "source": [
    "<h3> <b>Next Step:</b> Produce a mappable output supported by Mapbox (our visualization tool) </h3>\n"
   ]
  },
  {
   "cell_type": "code",
   "execution_count": 35,
   "metadata": {},
   "outputs": [],
   "source": [
    "# create function to turn a df to a geojson dictionary\n",
    "# reference: https://medium.com/@strateg17/easily-create-geojson-file-from-pandas-data-frame-b114b5c6d770\n",
    "\n",
    "def df_to_geojson(df):\n",
    "    geojson = {\n",
    "        \"type\": \"FeatureCollection\",\n",
    "        \"features\": []\n",
    "    }\n",
    "\n",
    "    for index, row in df.iterrows():\n",
    "        feature = {\n",
    "            \"type\": \"Feature\",\n",
    "            \"properties\": {\"date\": row[\"date\"], \"time\":row[\"time\"]},\n",
    "            \"geometry\": {\n",
    "                \"type\": \"Point\",\n",
    "                \"coordinates\": [row[\"longitude\"], row[\"latitude\"]]\n",
    "            }\n",
    "        }\n",
    "        geojson[\"features\"].append(feature)\n",
    "\n",
    "    return geojson"
   ]
  },
  {
   "cell_type": "code",
   "execution_count": 36,
   "metadata": {},
   "outputs": [],
   "source": [
    "import json\n",
    "\n",
    "# create function to write geojson dict to a file\n",
    "def write_to_geojson(filepath, geojson):\n",
    "    with open(filepath, 'w') as outfile:\n",
    "        json.dump(geojson, outfile, indent=2)\n",
    "    print(\"Finished writing geojson dict to \", filepath)"
   ]
  },
  {
   "cell_type": "code",
   "execution_count": 75,
   "metadata": {},
   "outputs": [
    {
     "name": "stdout",
     "output_type": "stream",
     "text": [
      "{'type': 'FeatureCollection', 'features': [{'type': 'Feature', 'properties': {'date': '2020-01-01', 'time': '00:38:02'}, 'geometry': {'type': 'Point', 'coordinates': [-122.3747182371207, 47.59369838078001]}}, {'type': 'Feature', 'properties': {'date': '2020-01-01', 'time': '00:38:42'}, 'geometry': {'type': 'Point', 'coordinates': [-122.37471821899534, 47.593726805143966]}}, {'type': 'Feature', 'properties': {'date': '2020-01-01', 'time': '00:43:52'}, 'geometry': {'type': 'Point', 'coordinates': [-122.3747175079831, 47.59414323842463]}}, {'type': 'Feature', 'properties': {'date': '2020-01-01', 'time': '02:13:39'}, 'geometry': {'type': 'Point', 'coordinates': [-122.3747182371207, 47.59369838078001]}}, {'type': 'Feature', 'properties': {'date': '2020-01-01', 'time': '05:37:20'}, 'geometry': {'type': 'Point', 'coordinates': [-122.33350285844485, 47.67040083251598]}}, {'type': 'Feature', 'properties': {'date': '2020-01-01', 'time': '07:39:23'}, 'geometry': {'type': 'Point', 'coordinates': [-122.31638671416374, 47.61888538834712]}}, {'type': 'Feature', 'properties': {'date': '2020-01-01', 'time': '08:16:50'}, 'geometry': {'type': 'Point', 'coordinates': [-122.31638586427368, 47.61471983382876]}}, {'type': 'Feature', 'properties': {'date': '2020-01-01', 'time': '08:20:30'}, 'geometry': {'type': 'Point', 'coordinates': [-122.31638923215534, 47.61467077255274]}}, {'type': 'Feature', 'properties': {'date': '2020-01-01', 'time': '08:24:22'}, 'geometry': {'type': 'Point', 'coordinates': [-122.31639071044724, 47.61471013714015]}}, {'type': 'Feature', 'properties': {'date': '2020-01-01', 'time': '08:26:49'}, 'geometry': {'type': 'Point', 'coordinates': [-122.3163900709384, 47.61467909249115]}}, {'type': 'Feature', 'properties': {'date': '2020-01-01', 'time': '08:27:20'}, 'geometry': {'type': 'Point', 'coordinates': [-122.31639035718004, 47.61472584809193]}}, {'type': 'Feature', 'properties': {'date': '2020-01-01', 'time': '08:31:22'}, 'geometry': {'type': 'Point', 'coordinates': [-122.31639059492724, 47.614691949721866]}}, {'type': 'Feature', 'properties': {'date': '2020-01-01', 'time': '08:32:06'}, 'geometry': {'type': 'Point', 'coordinates': [-122.3163907305514, 47.61468106532683]}}, {'type': 'Feature', 'properties': {'date': '2020-01-01', 'time': '08:33:17'}, 'geometry': {'type': 'Point', 'coordinates': [-122.31639070976242, 47.614721555369016]}}, {'type': 'Feature', 'properties': {'date': '2020-01-01', 'time': '09:37:17'}, 'geometry': {'type': 'Point', 'coordinates': [-122.27253111858867, 47.64854971464861]}}, {'type': 'Feature', 'properties': {'date': '2020-01-01', 'time': '09:37:56'}, 'geometry': {'type': 'Point', 'coordinates': [-122.2725314102603, 47.64836841187388]}}, {'type': 'Feature', 'properties': {'date': '2020-01-01', 'time': '09:38:31'}, 'geometry': {'type': 'Point', 'coordinates': [-122.27253143582304, 47.64843706001259]}}, {'type': 'Feature', 'properties': {'date': '2020-01-01', 'time': '09:39:14'}, 'geometry': {'type': 'Point', 'coordinates': [-122.27253171003557, 47.64854630059344]}}, {'type': 'Feature', 'properties': {'date': '2020-01-01', 'time': '09:43:11'}, 'geometry': {'type': 'Point', 'coordinates': [-122.27253268039946, 47.64849006701754]}}, {'type': 'Feature', 'properties': {'date': '2020-01-01', 'time': '09:44:02'}, 'geometry': {'type': 'Point', 'coordinates': [-122.2725324061743, 47.64845241685952]}}, {'type': 'Feature', 'properties': {'date': '2020-01-01', 'time': '09:45:15'}, 'geometry': {'type': 'Point', 'coordinates': [-122.2725313813993, 47.64843840423497]}}, {'type': 'Feature', 'properties': {'date': '2020-01-01', 'time': '09:48:51'}, 'geometry': {'type': 'Point', 'coordinates': [-122.27253299948804, 47.64905751502797]}}, {'type': 'Feature', 'properties': {'date': '2020-01-01', 'time': '09:53:43'}, 'geometry': {'type': 'Point', 'coordinates': [-122.2725329469028, 47.64908832419211]}}, {'type': 'Feature', 'properties': {'date': '2020-01-01', 'time': '09:55:16'}, 'geometry': {'type': 'Point', 'coordinates': [-122.27253320271218, 47.64907819258535]}}, {'type': 'Feature', 'properties': {'date': '2020-01-01', 'time': '09:56:22'}, 'geometry': {'type': 'Point', 'coordinates': [-122.27253354039031, 47.64844909747828]}}, {'type': 'Feature', 'properties': {'date': '2020-01-01', 'time': '09:59:38'}, 'geometry': {'type': 'Point', 'coordinates': [-122.27253433741328, 47.64840724468175]}}, {'type': 'Feature', 'properties': {'date': '2020-01-01', 'time': '10:01:32'}, 'geometry': {'type': 'Point', 'coordinates': [-122.27253465384892, 47.649135233865934]}}, {'type': 'Feature', 'properties': {'date': '2020-01-01', 'time': '10:06:18'}, 'geometry': {'type': 'Point', 'coordinates': [-122.27253394721336, 47.64913901906394]}}, {'type': 'Feature', 'properties': {'date': '2020-01-01', 'time': '10:09:32'}, 'geometry': {'type': 'Point', 'coordinates': [-122.27253589414956, 47.64847447422903]}}, {'type': 'Feature', 'properties': {'date': '2020-01-01', 'time': '10:11:07'}, 'geometry': {'type': 'Point', 'coordinates': [-122.27253607979716, 47.64852070838224]}}, {'type': 'Feature', 'properties': {'date': '2020-01-01', 'time': '10:11:53'}, 'geometry': {'type': 'Point', 'coordinates': [-122.2725361028785, 47.64851680493896]}}, {'type': 'Feature', 'properties': {'date': '2020-01-01', 'time': '10:15:16'}, 'geometry': {'type': 'Point', 'coordinates': [-122.27253555288156, 47.64909971075337]}}, {'type': 'Feature', 'properties': {'date': '2020-01-01', 'time': '10:19:02'}, 'geometry': {'type': 'Point', 'coordinates': [-122.27253551917984, 47.64837119295519]}}, {'type': 'Feature', 'properties': {'date': '2020-01-01', 'time': '10:33:54'}, 'geometry': {'type': 'Point', 'coordinates': [-122.27253640080372, 47.64846485528149]}}, {'type': 'Feature', 'properties': {'date': '2020-01-01', 'time': '10:55:39'}, 'geometry': {'type': 'Point', 'coordinates': [-122.32014707239072, 47.56459651000617]}}, {'type': 'Feature', 'properties': {'date': '2020-01-01', 'time': '11:00:02'}, 'geometry': {'type': 'Point', 'coordinates': [-122.3201477466987, 47.56367960407216]}}, {'type': 'Feature', 'properties': {'date': '2020-01-01', 'time': '11:03:12'}, 'geometry': {'type': 'Point', 'coordinates': [-122.32014723357872, 47.56456520916576]}}, {'type': 'Feature', 'properties': {'date': '2020-01-01', 'time': '11:04:41'}, 'geometry': {'type': 'Point', 'coordinates': [-122.32014704418005, 47.56463543003539]}}, {'type': 'Feature', 'properties': {'date': '2020-01-01', 'time': '11:10:32'}, 'geometry': {'type': 'Point', 'coordinates': [-122.32014432271902, 47.5646003238761]}}, {'type': 'Feature', 'properties': {'date': '2020-01-01', 'time': '11:11:03'}, 'geometry': {'type': 'Point', 'coordinates': [-122.32014423387976, 47.56459011141625]}}, {'type': 'Feature', 'properties': {'date': '2020-01-01', 'time': '11:19:14'}, 'geometry': {'type': 'Point', 'coordinates': [-122.32014754421267, 47.56459278694467]}}, {'type': 'Feature', 'properties': {'date': '2020-01-01', 'time': '11:21:36'}, 'geometry': {'type': 'Point', 'coordinates': [-122.3201468421407, 47.563663044291246]}}, {'type': 'Feature', 'properties': {'date': '2020-01-01', 'time': '11:37:32'}, 'geometry': {'type': 'Point', 'coordinates': [-122.3201455412003, 47.56321156939088]}}, {'type': 'Feature', 'properties': {'date': '2020-01-01', 'time': '11:57:22'}, 'geometry': {'type': 'Point', 'coordinates': [-122.32014511793912, 47.563246518405954]}}, {'type': 'Feature', 'properties': {'date': '2020-01-01', 'time': '12:06:53'}, 'geometry': {'type': 'Point', 'coordinates': [-122.32014639224228, 47.563188440657136]}}, {'type': 'Feature', 'properties': {'date': '2020-01-01', 'time': '12:07:54'}, 'geometry': {'type': 'Point', 'coordinates': [-122.32014700457296, 47.56370921977015]}}, {'type': 'Feature', 'properties': {'date': '2020-01-01', 'time': '12:08:54'}, 'geometry': {'type': 'Point', 'coordinates': [-122.32014713517454, 47.56366947582438]}}, {'type': 'Feature', 'properties': {'date': '2020-01-01', 'time': '12:09:24'}, 'geometry': {'type': 'Point', 'coordinates': [-122.32014712930288, 47.563692965578575]}}, {'type': 'Feature', 'properties': {'date': '2020-01-01', 'time': '12:13:42'}, 'geometry': {'type': 'Point', 'coordinates': [-122.32014734327934, 47.56462439839311]}}, {'type': 'Feature', 'properties': {'date': '2020-01-01', 'time': '12:19:45'}, 'geometry': {'type': 'Point', 'coordinates': [-122.3201472905298, 47.56315520335199]}}, {'type': 'Feature', 'properties': {'date': '2020-01-01', 'time': '12:21:10'}, 'geometry': {'type': 'Point', 'coordinates': [-122.32014674169707, 47.563192121926924]}}, {'type': 'Feature', 'properties': {'date': '2020-01-01', 'time': '12:27:38'}, 'geometry': {'type': 'Point', 'coordinates': [-122.3201450502846, 47.56369324252189]}}, {'type': 'Feature', 'properties': {'date': '2020-01-01', 'time': '12:29:43'}, 'geometry': {'type': 'Point', 'coordinates': [-122.32014538220017, 47.56368669043116]}}, {'type': 'Feature', 'properties': {'date': '2020-01-01', 'time': '12:30:22'}, 'geometry': {'type': 'Point', 'coordinates': [-122.32014538246295, 47.56368663564251]}}, {'type': 'Feature', 'properties': {'date': '2020-01-01', 'time': '12:34:41'}, 'geometry': {'type': 'Point', 'coordinates': [-122.32014482184957, 47.56317450153203]}}, {'type': 'Feature', 'properties': {'date': '2020-01-01', 'time': '12:36:51'}, 'geometry': {'type': 'Point', 'coordinates': [-122.32014607010277, 47.56323567749356]}}, {'type': 'Feature', 'properties': {'date': '2020-01-01', 'time': '12:42:46'}, 'geometry': {'type': 'Point', 'coordinates': [-122.32014624576853, 47.56459296083211]}}, {'type': 'Feature', 'properties': {'date': '2020-01-01', 'time': '13:41:06'}, 'geometry': {'type': 'Point', 'coordinates': [-122.31638798396696, 47.61893576695209]}}, {'type': 'Feature', 'properties': {'date': '2020-01-01', 'time': '13:42:14'}, 'geometry': {'type': 'Point', 'coordinates': [-122.3163888538327, 47.61888909476972]}}, {'type': 'Feature', 'properties': {'date': '2020-01-01', 'time': '13:45:03'}, 'geometry': {'type': 'Point', 'coordinates': [-122.31638877444342, 47.61891635709498]}}, {'type': 'Feature', 'properties': {'date': '2020-01-01', 'time': '13:52:46'}, 'geometry': {'type': 'Point', 'coordinates': [-122.31638842954942, 47.61889087114027]}}, {'type': 'Feature', 'properties': {'date': '2020-01-01', 'time': '14:10:20'}, 'geometry': {'type': 'Point', 'coordinates': [-122.30281852468715, 47.60313436532212]}}, {'type': 'Feature', 'properties': {'date': '2020-01-01', 'time': '14:10:57'}, 'geometry': {'type': 'Point', 'coordinates': [-122.3028186335034, 47.603180907205925]}}, {'type': 'Feature', 'properties': {'date': '2020-01-01', 'time': '14:11:36'}, 'geometry': {'type': 'Point', 'coordinates': [-122.30281842086865, 47.60317569533493]}}, {'type': 'Feature', 'properties': {'date': '2020-01-01', 'time': '14:12:14'}, 'geometry': {'type': 'Point', 'coordinates': [-122.30281838995434, 47.60313781992888]}}, {'type': 'Feature', 'properties': {'date': '2020-01-01', 'time': '14:14:01'}, 'geometry': {'type': 'Point', 'coordinates': [-122.302816894586, 47.60329512702919]}}, {'type': 'Feature', 'properties': {'date': '2020-01-01', 'time': '14:15:13'}, 'geometry': {'type': 'Point', 'coordinates': [-122.29937560438304, 47.58552784137221]}}, {'type': 'Feature', 'properties': {'date': '2020-01-01', 'time': '14:24:43'}, 'geometry': {'type': 'Point', 'coordinates': [-122.29937509208276, 47.58546807191935]}}, {'type': 'Feature', 'properties': {'date': '2020-01-01', 'time': '14:25:54'}, 'geometry': {'type': 'Point', 'coordinates': [-122.29937505731574, 47.585472961447145]}}, {'type': 'Feature', 'properties': {'date': '2020-01-01', 'time': '14:37:54'}, 'geometry': {'type': 'Point', 'coordinates': [-122.29937149732184, 47.5863323616302]}}, {'type': 'Feature', 'properties': {'date': '2020-01-01', 'time': '14:39:03'}, 'geometry': {'type': 'Point', 'coordinates': [-122.29937144252396, 47.58630378771417]}}, {'type': 'Feature', 'properties': {'date': '2020-01-01', 'time': '14:42:01'}, 'geometry': {'type': 'Point', 'coordinates': [-122.29937197224812, 47.58634688502946]}}, {'type': 'Feature', 'properties': {'date': '2020-01-01', 'time': '14:44:16'}, 'geometry': {'type': 'Point', 'coordinates': [-122.29937309744189, 47.58633930632181]}}, {'type': 'Feature', 'properties': {'date': '2020-01-01', 'time': '14:44:52'}, 'geometry': {'type': 'Point', 'coordinates': [-122.29937337748508, 47.58628013951324]}}, {'type': 'Feature', 'properties': {'date': '2020-01-01', 'time': '14:45:30'}, 'geometry': {'type': 'Point', 'coordinates': [-122.29937338316006, 47.58628655168552]}}, {'type': 'Feature', 'properties': {'date': '2020-01-01', 'time': '15:00:49'}, 'geometry': {'type': 'Point', 'coordinates': [-122.2993736295301, 47.58554630210048]}}, {'type': 'Feature', 'properties': {'date': '2020-01-01', 'time': '15:20:53'}, 'geometry': {'type': 'Point', 'coordinates': [-122.3747182371207, 47.59369838078001]}}, {'type': 'Feature', 'properties': {'date': '2020-01-01', 'time': '15:27:35'}, 'geometry': {'type': 'Point', 'coordinates': [-122.29937560438304, 47.58552784137221]}}, {'type': 'Feature', 'properties': {'date': '2020-01-01', 'time': '15:36:49'}, 'geometry': {'type': 'Point', 'coordinates': [-122.29937531892878, 47.5863009997072]}}, {'type': 'Feature', 'properties': {'date': '2020-01-01', 'time': '15:53:48'}, 'geometry': {'type': 'Point', 'coordinates': [-122.3747182371207, 47.59369838078001]}}, {'type': 'Feature', 'properties': {'date': '2020-01-01', 'time': '15:56:54'}, 'geometry': {'type': 'Point', 'coordinates': [-122.37471757735052, 47.59374468352296]}}, {'type': 'Feature', 'properties': {'date': '2020-01-01', 'time': '16:03:07'}, 'geometry': {'type': 'Point', 'coordinates': [-122.37471782055744, 47.59374475628893]}}, {'type': 'Feature', 'properties': {'date': '2020-01-01', 'time': '16:08:03'}, 'geometry': {'type': 'Point', 'coordinates': [-122.30281852468715, 47.60313436532212]}}, {'type': 'Feature', 'properties': {'date': '2020-01-01', 'time': '16:09:25'}, 'geometry': {'type': 'Point', 'coordinates': [-122.3028195907543, 47.60289921241313]}}, {'type': 'Feature', 'properties': {'date': '2020-01-01', 'time': '16:10:47'}, 'geometry': {'type': 'Point', 'coordinates': [-122.30281958640414, 47.60289946734184]}}, {'type': 'Feature', 'properties': {'date': '2020-01-01', 'time': '16:13:25'}, 'geometry': {'type': 'Point', 'coordinates': [-122.30281983110469, 47.602858652214906]}}, {'type': 'Feature', 'properties': {'date': '2020-01-01', 'time': '16:20:05'}, 'geometry': {'type': 'Point', 'coordinates': [-122.30281639510048, 47.60327326385745]}}, {'type': 'Feature', 'properties': {'date': '2020-01-01', 'time': '16:20:50'}, 'geometry': {'type': 'Point', 'coordinates': [-122.30281648657424, 47.603278086579216]}}, {'type': 'Feature', 'properties': {'date': '2020-01-01', 'time': '16:21:26'}, 'geometry': {'type': 'Point', 'coordinates': [-122.30281684891052, 47.60323269502179]}}, {'type': 'Feature', 'properties': {'date': '2020-01-01', 'time': '16:23:47'}, 'geometry': {'type': 'Point', 'coordinates': [-122.30281699219708, 47.6028716610583]}}, {'type': 'Feature', 'properties': {'date': '2020-01-01', 'time': '16:54:25'}, 'geometry': {'type': 'Point', 'coordinates': [-122.30281852468715, 47.60313436532212]}}, {'type': 'Feature', 'properties': {'date': '2020-01-01', 'time': '16:55:05'}, 'geometry': {'type': 'Point', 'coordinates': [-122.30281854205636, 47.60327550935971]}}, {'type': 'Feature', 'properties': {'date': '2020-01-01', 'time': '16:56:14'}, 'geometry': {'type': 'Point', 'coordinates': [-122.30281807394216, 47.60333353097691]}}, {'type': 'Feature', 'properties': {'date': '2020-01-01', 'time': '16:56:56'}, 'geometry': {'type': 'Point', 'coordinates': [-122.30281808571026, 47.6033298244786]}}, {'type': 'Feature', 'properties': {'date': '2020-01-01', 'time': '17:01:18'}, 'geometry': {'type': 'Point', 'coordinates': [-122.30281902521428, 47.60332911594804]}}, {'type': 'Feature', 'properties': {'date': '2020-01-01', 'time': '17:02:18'}, 'geometry': {'type': 'Point', 'coordinates': [-122.30281869735516, 47.60315536993503]}}, {'type': 'Feature', 'properties': {'date': '2020-01-01', 'time': '17:03:08'}, 'geometry': {'type': 'Point', 'coordinates': [-122.30281930413106, 47.60314043571735]}}, {'type': 'Feature', 'properties': {'date': '2020-01-01', 'time': '17:04:19'}, 'geometry': {'type': 'Point', 'coordinates': [-122.30282008126478, 47.6031947369036]}}, {'type': 'Feature', 'properties': {'date': '2020-01-01', 'time': '17:07:54'}, 'geometry': {'type': 'Point', 'coordinates': [-122.3028195264424, 47.60294905035706]}}, {'type': 'Feature', 'properties': {'date': '2020-01-01', 'time': '17:08:38'}, 'geometry': {'type': 'Point', 'coordinates': [-122.302819458113, 47.60294563344134]}}, {'type': 'Feature', 'properties': {'date': '2020-01-01', 'time': '17:11:01'}, 'geometry': {'type': 'Point', 'coordinates': [-122.3028190919388, 47.60291151452793]}}, {'type': 'Feature', 'properties': {'date': '2020-01-01', 'time': '17:15:08'}, 'geometry': {'type': 'Point', 'coordinates': [-122.30281852468715, 47.60313436532212]}}, {'type': 'Feature', 'properties': {'date': '2020-01-01', 'time': '17:16:14'}, 'geometry': {'type': 'Point', 'coordinates': [-122.30281768179978, 47.60287000292346]}}, {'type': 'Feature', 'properties': {'date': '2020-01-01', 'time': '17:20:04'}, 'geometry': {'type': 'Point', 'coordinates': [-122.30281784576054, 47.60291157655172]}}, {'type': 'Feature', 'properties': {'date': '2020-01-01', 'time': '17:21:13'}, 'geometry': {'type': 'Point', 'coordinates': [-122.30281767468696, 47.602915222948575]}}, {'type': 'Feature', 'properties': {'date': '2020-01-01', 'time': '17:21:58'}, 'geometry': {'type': 'Point', 'coordinates': [-122.3028173781334, 47.60324054137436]}}, {'type': 'Feature', 'properties': {'date': '2020-01-01', 'time': '17:28:10'}, 'geometry': {'type': 'Point', 'coordinates': [-122.30281887706676, 47.60323165987548]}}, {'type': 'Feature', 'properties': {'date': '2020-01-01', 'time': '17:34:24'}, 'geometry': {'type': 'Point', 'coordinates': [-122.30281913312956, 47.6029214818689]}}, {'type': 'Feature', 'properties': {'date': '2020-01-01', 'time': '18:33:52'}, 'geometry': {'type': 'Point', 'coordinates': [-122.27252868014426, 47.64906744895435]}}, {'type': 'Feature', 'properties': {'date': '2020-01-01', 'time': '18:34:51'}, 'geometry': {'type': 'Point', 'coordinates': [-122.2725286918968, 47.649078691254914]}}, {'type': 'Feature', 'properties': {'date': '2020-01-01', 'time': '18:35:58'}, 'geometry': {'type': 'Point', 'coordinates': [-122.2725286846762, 47.64905540882802]}}, {'type': 'Feature', 'properties': {'date': '2020-01-01', 'time': '18:47:49'}, 'geometry': {'type': 'Point', 'coordinates': [-122.2725287788332, 47.64841368389624]}}, {'type': 'Feature', 'properties': {'date': '2020-01-01', 'time': '18:52:39'}, 'geometry': {'type': 'Point', 'coordinates': [-122.32698462396856, 47.54416223600759]}}, {'type': 'Feature', 'properties': {'date': '2020-01-01', 'time': '19:00:15'}, 'geometry': {'type': 'Point', 'coordinates': [-122.32698437581855, 47.54424221322679]}}, {'type': 'Feature', 'properties': {'date': '2020-01-01', 'time': '19:07:41'}, 'geometry': {'type': 'Point', 'coordinates': [-122.30281852468715, 47.60313436532212]}}, {'type': 'Feature', 'properties': {'date': '2020-01-01', 'time': '19:08:43'}, 'geometry': {'type': 'Point', 'coordinates': [-122.30281854440544, 47.60313954097203]}}, {'type': 'Feature', 'properties': {'date': '2020-01-01', 'time': '19:09:34'}, 'geometry': {'type': 'Point', 'coordinates': [-122.30281855246348, 47.603260054836056]}}, {'type': 'Feature', 'properties': {'date': '2020-01-01', 'time': '19:26:50'}, 'geometry': {'type': 'Point', 'coordinates': [-122.3747182371207, 47.59369838078001]}}, {'type': 'Feature', 'properties': {'date': '2020-01-01', 'time': '19:28:51'}, 'geometry': {'type': 'Point', 'coordinates': [-122.3747183516916, 47.59413714414968]}}, {'type': 'Feature', 'properties': {'date': '2020-01-01', 'time': '19:31:24'}, 'geometry': {'type': 'Point', 'coordinates': [-122.3747185345071, 47.59412973320643]}}, {'type': 'Feature', 'properties': {'date': '2020-01-01', 'time': '19:46:37'}, 'geometry': {'type': 'Point', 'coordinates': [-122.37471832240618, 47.594077923477045]}}, {'type': 'Feature', 'properties': {'date': '2020-01-01', 'time': '19:50:34'}, 'geometry': {'type': 'Point', 'coordinates': [-122.37471853072488, 47.59412586559385]}}, {'type': 'Feature', 'properties': {'date': '2020-01-01', 'time': '19:51:43'}, 'geometry': {'type': 'Point', 'coordinates': [-122.3747188852998, 47.59408745522973]}}, {'type': 'Feature', 'properties': {'date': '2020-01-01', 'time': '19:55:55'}, 'geometry': {'type': 'Point', 'coordinates': [-122.37471906611604, 47.594073904028]}}, {'type': 'Feature', 'properties': {'date': '2020-01-01', 'time': '20:00:24'}, 'geometry': {'type': 'Point', 'coordinates': [-122.3747193214314, 47.59369945660064]}}, {'type': 'Feature', 'properties': {'date': '2020-01-01', 'time': '20:01:40'}, 'geometry': {'type': 'Point', 'coordinates': [-122.37471930669037, 47.59366633100813]}}, {'type': 'Feature', 'properties': {'date': '2020-01-01', 'time': '20:42:56'}, 'geometry': {'type': 'Point', 'coordinates': [-122.30281852468715, 47.60313436532212]}}, {'type': 'Feature', 'properties': {'date': '2020-01-01', 'time': '20:43:29'}, 'geometry': {'type': 'Point', 'coordinates': [-122.302818817923, 47.60330722712482]}}, {'type': 'Feature', 'properties': {'date': '2020-01-01', 'time': '20:44:11'}, 'geometry': {'type': 'Point', 'coordinates': [-122.30281897916396, 47.60290659951511]}}, {'type': 'Feature', 'properties': {'date': '2020-01-01', 'time': '20:45:26'}, 'geometry': {'type': 'Point', 'coordinates': [-122.30281893455532, 47.60293672945634]}}, {'type': 'Feature', 'properties': {'date': '2020-01-01', 'time': '20:49:43'}, 'geometry': {'type': 'Point', 'coordinates': [-122.3028204907122, 47.60312002851839]}}, {'type': 'Feature', 'properties': {'date': '2020-01-01', 'time': '21:06:06'}, 'geometry': {'type': 'Point', 'coordinates': [-122.32698462396856, 47.54416223600759]}}, {'type': 'Feature', 'properties': {'date': '2020-01-01', 'time': '21:10:48'}, 'geometry': {'type': 'Point', 'coordinates': [-122.32698461599036, 47.54423357004666]}}, {'type': 'Feature', 'properties': {'date': '2020-01-01', 'time': '21:19:27'}, 'geometry': {'type': 'Point', 'coordinates': [-122.32698409168228, 47.54415463645047]}}, {'type': 'Feature', 'properties': {'date': '2020-01-01', 'time': '21:25:50'}, 'geometry': {'type': 'Point', 'coordinates': [-122.32698466373763, 47.54415346682339]}}, {'type': 'Feature', 'properties': {'date': '2020-01-01', 'time': '21:41:21'}, 'geometry': {'type': 'Point', 'coordinates': [-122.31638810709524, 47.618927832820326]}}, {'type': 'Feature', 'properties': {'date': '2020-01-01', 'time': '21:48:43'}, 'geometry': {'type': 'Point', 'coordinates': [-122.31638946235594, 47.61890748821646]}}, {'type': 'Feature', 'properties': {'date': '2020-01-01', 'time': '21:51:42'}, 'geometry': {'type': 'Point', 'coordinates': [-122.40152048578958, 47.61050213647615]}}, {'type': 'Feature', 'properties': {'date': '2020-01-01', 'time': '21:59:30'}, 'geometry': {'type': 'Point', 'coordinates': [-122.4015232088859, 47.610483437443605]}}, {'type': 'Feature', 'properties': {'date': '2020-01-01', 'time': '22:00:32'}, 'geometry': {'type': 'Point', 'coordinates': [-122.40152266717506, 47.61050592983122]}}, {'type': 'Feature', 'properties': {'date': '2020-01-01', 'time': '22:02:06'}, 'geometry': {'type': 'Point', 'coordinates': [-122.4015221797943, 47.61049190294003]}}, {'type': 'Feature', 'properties': {'date': '2020-01-01', 'time': '22:05:25'}, 'geometry': {'type': 'Point', 'coordinates': [-122.40152123548076, 47.61047346462984]}}, {'type': 'Feature', 'properties': {'date': '2020-01-01', 'time': '22:06:27'}, 'geometry': {'type': 'Point', 'coordinates': [-122.40152197841006, 47.61054206890024]}}, {'type': 'Feature', 'properties': {'date': '2020-01-01', 'time': '22:07:39'}, 'geometry': {'type': 'Point', 'coordinates': [-122.40152183959994, 47.61050963785864]}}, {'type': 'Feature', 'properties': {'date': '2020-01-01', 'time': '22:10:54'}, 'geometry': {'type': 'Point', 'coordinates': [-122.40152311753344, 47.61046283740925]}}, {'type': 'Feature', 'properties': {'date': '2020-01-01', 'time': '22:57:20'}, 'geometry': {'type': 'Point', 'coordinates': [-122.29937560438304, 47.58552784137221]}}, {'type': 'Feature', 'properties': {'date': '2020-01-01', 'time': '22:58:40'}, 'geometry': {'type': 'Point', 'coordinates': [-122.29937560678827, 47.585547440794514]}}, {'type': 'Feature', 'properties': {'date': '2020-01-01', 'time': '22:59:58'}, 'geometry': {'type': 'Point', 'coordinates': [-122.32698462396856, 47.54416223600759]}}, {'type': 'Feature', 'properties': {'date': '2020-01-01', 'time': '23:10:24'}, 'geometry': {'type': 'Point', 'coordinates': [-122.33350285844485, 47.67040083251598]}}, {'type': 'Feature', 'properties': {'date': '2020-01-01', 'time': '23:11:16'}, 'geometry': {'type': 'Point', 'coordinates': [-122.33350324408376, 47.67036496781615]}}, {'type': 'Feature', 'properties': {'date': '2020-01-01', 'time': '23:13:09'}, 'geometry': {'type': 'Point', 'coordinates': [-122.33350238528456, 47.670387931616126]}}, {'type': 'Feature', 'properties': {'date': '2020-01-01', 'time': '23:13:45'}, 'geometry': {'type': 'Point', 'coordinates': [-122.3335025253198, 47.67042634368397]}}, {'type': 'Feature', 'properties': {'date': '2020-01-01', 'time': '23:16:22'}, 'geometry': {'type': 'Point', 'coordinates': [-122.33350250965192, 47.670418854585634]}}, {'type': 'Feature', 'properties': {'date': '2020-01-01', 'time': '23:17:02'}, 'geometry': {'type': 'Point', 'coordinates': [-122.33350260660788, 47.67039239406618]}}, {'type': 'Feature', 'properties': {'date': '2020-01-01', 'time': '23:17:45'}, 'geometry': {'type': 'Point', 'coordinates': [-122.3335028229883, 47.67039148862536]}}]}\n"
     ]
    }
   ],
   "source": [
    "# create geojson dict for cluster for rounding method used in this file\n",
    "day_round_geojson = df_to_geojson(day_cluster_df)\n",
    "\n",
    "print(day_round_geojson)"
   ]
  },
  {
   "cell_type": "code",
   "execution_count": 77,
   "metadata": {},
   "outputs": [],
   "source": [
    "week_round_geojson = df_to_geojson(week_cluster_df)"
   ]
  },
  {
   "cell_type": "code",
   "execution_count": 78,
   "metadata": {},
   "outputs": [],
   "source": [
    "month_round_geojson = df_to_geojson(month_cluster_df)"
   ]
  },
  {
   "cell_type": "code",
   "execution_count": 79,
   "metadata": {},
   "outputs": [
    {
     "name": "stdout",
     "output_type": "stream",
     "text": [
      "Finished writing geojson dict to  ./ClusterResults/day_round_clusters_0.json\n",
      "Finished writing geojson dict to  ./ClusterResults/week_round_clusters_0.json\n",
      "Finished writing geojson dict to  ./ClusterResults/month_round_clusters_0.json\n"
     ]
    }
   ],
   "source": [
    "write_to_geojson(\"./ClusterResults/day_round_clusters_0.json\", day_round_geojson)\n",
    "write_to_geojson(\"./ClusterResults/week_round_clusters_0.json\", week_round_geojson)\n",
    "write_to_geojson(\"./ClusterResults/month_round_clusters_0.json\", month_round_geojson)"
   ]
  },
  {
   "cell_type": "markdown",
   "metadata": {},
   "source": [
    "<h3> Load dataset filtered with the distance filtering method in order to convert it to geojson format </h3>"
   ]
  },
  {
   "cell_type": "code",
   "execution_count": 80,
   "metadata": {},
   "outputs": [
    {
     "name": "stdout",
     "output_type": "stream",
     "text": [
      "           date      time   longitude   latitude  samples\n",
      "0    2020-01-01  00:06:55 -122.335169  47.607230        3\n",
      "1    2020-01-01  00:11:07 -122.335169  47.607051        1\n",
      "2    2020-01-01  00:19:34 -122.335170  47.606697        4\n",
      "3    2020-01-01  00:57:13 -122.374123  47.609739       10\n",
      "4    2020-01-01  01:43:42 -122.317921  47.591803        2\n",
      "..          ...       ...         ...        ...      ...\n",
      "110  2020-01-01  23:28:26 -122.348794  47.677851        5\n",
      "111  2020-01-01  23:33:59 -122.371732  47.689321        1\n",
      "112  2020-01-01  23:47:51 -122.371731  47.689373        3\n",
      "113  2020-01-01  23:52:23 -122.381755  47.544283        3\n",
      "114  2020-01-01  23:57:26 -122.381755  47.543849       10\n",
      "\n",
      "[115 rows x 5 columns]\n"
     ]
    }
   ],
   "source": [
    "# create geojson dict for cluster for distance method used in R file\n",
    "# First, import the file as a df\n",
    "distance_df = pd.read_csv(\"./FilteredData/distance_filtered_0.csv\")\n",
    "\n",
    "# Narrow down data to be the same day as the one we're doing exploratory analyzis on\n",
    "first_dist_df = distance_df[distance_df[\"date\"] == \"2020-01-01\"]\n",
    "\n",
    "print(first_dist_df)"
   ]
  },
  {
   "cell_type": "code",
   "execution_count": 81,
   "metadata": {},
   "outputs": [],
   "source": [
    "# get the other days as well in order to form week sample\n",
    "second_dist_df = distance_df[distance_df[\"date\"] == \"2020-01-02\"]\n",
    "third_dist_df = distance_df[distance_df[\"date\"] == \"2020-01-03\"]\n",
    "fourth_dist_df = distance_df[distance_df[\"date\"] == \"2020-01-04\"]\n",
    "fifth_dist_df = distance_df[distance_df[\"date\"] == \"2020-01-05\"]\n",
    "sixth_dist_df = distance_df[distance_df[\"date\"] == \"2020-01-06\"]\n",
    "seventh_dist_df = distance_df[distance_df[\"date\"] == \"2020-01-07\"]"
   ]
  },
  {
   "cell_type": "code",
   "execution_count": 84,
   "metadata": {},
   "outputs": [
    {
     "name": "stdout",
     "output_type": "stream",
     "text": [
      "           date      time   longitude   latitude  samples\n",
      "0    2020-01-01  00:06:55 -122.335169  47.607230        3\n",
      "1    2020-01-01  00:11:07 -122.335169  47.607051        1\n",
      "2    2020-01-01  00:19:34 -122.335170  47.606697        4\n",
      "3    2020-01-01  00:57:13 -122.374123  47.609739       10\n",
      "4    2020-01-01  01:43:42 -122.317921  47.591803        2\n",
      "..          ...       ...         ...        ...      ...\n",
      "738  2020-01-07  23:22:24 -122.316388  47.619218        3\n",
      "739  2020-01-07  23:28:13 -122.316389  47.619315        4\n",
      "740  2020-01-07  23:33:15 -122.316390  47.618818        4\n",
      "741  2020-01-07  23:38:13 -122.316391  47.619657        2\n",
      "742  2020-01-07  23:43:01 -122.316388  47.618855       10\n",
      "\n",
      "[743 rows x 5 columns]\n"
     ]
    }
   ],
   "source": [
    "# concat days into week sample\n",
    "week_dist_df = pd.concat([first_dist_df, second_dist_df, third_dist_df, fourth_dist_df, fifth_dist_df, sixth_dist_df, seventh_dist_df], ignore_index=True)\n",
    "print(week_dist_df)"
   ]
  },
  {
   "cell_type": "code",
   "execution_count": 85,
   "metadata": {},
   "outputs": [
    {
     "name": "stdout",
     "output_type": "stream",
     "text": [
      "            date      time   longitude   latitude  samples\n",
      "0     2020-01-01  00:06:55 -122.335169  47.607230        3\n",
      "1     2020-01-01  00:11:07 -122.335169  47.607051        1\n",
      "2     2020-01-01  00:19:34 -122.335170  47.606697        4\n",
      "3     2020-01-01  00:57:13 -122.374123  47.609739       10\n",
      "4     2020-01-01  01:43:42 -122.317921  47.591803        2\n",
      "...          ...       ...         ...        ...      ...\n",
      "3302  2020-01-31  21:30:28 -122.401525  47.609866        5\n",
      "3303  2020-01-31  21:35:31 -122.401524  47.610257        3\n",
      "3304  2020-01-31  21:42:17 -122.375766  47.593131       10\n",
      "3305  2020-01-31  23:40:03 -122.352143  47.601971        3\n",
      "3306  2020-01-31  23:53:08 -122.317616  47.602262       10\n",
      "\n",
      "[3307 rows x 5 columns]\n"
     ]
    }
   ],
   "source": [
    "# create month sample for jan 2020\n",
    "month_dist_df = distance_df[distance_df[\"date\"].str.split('-').str[1]==\"01\"]\n",
    "print(month_dist_df)"
   ]
  },
  {
   "cell_type": "code",
   "execution_count": 93,
   "metadata": {},
   "outputs": [],
   "source": [
    "# finally, write file\n",
    "day_distance_geojson = df_to_geojson(first_dist_df)\n",
    "week_distance_geojson = df_to_geojson(week_dist_df)\n",
    "month_distance_geojson = df_to_geojson(month_dist_df)"
   ]
  },
  {
   "cell_type": "code",
   "execution_count": 94,
   "metadata": {},
   "outputs": [
    {
     "name": "stdout",
     "output_type": "stream",
     "text": [
      "Finished writing geojson dict to  ./ClusterResults/day_distance_clusters_0.json\n",
      "Finished writing geojson dict to  ./ClusterResults/week_distance_clusters_0.json\n",
      "Finished writing geojson dict to  ./ClusterResults/month_distance_clusters_0.json\n"
     ]
    }
   ],
   "source": [
    "# write to file\n",
    "write_to_geojson(\"./ClusterResults/day_distance_clusters_0.json\", day_distance_geojson)\n",
    "write_to_geojson(\"./ClusterResults/week_distance_clusters_0.json\", week_distance_geojson)\n",
    "write_to_geojson(\"./ClusterResults/month_distance_clusters_0.json\", month_distance_geojson)"
   ]
  },
  {
   "cell_type": "code",
   "execution_count": 41,
   "metadata": {},
   "outputs": [
    {
     "name": "stderr",
     "output_type": "stream",
     "text": [
      "[NbConvertApp] Converting notebook clusterer.ipynb to html\n",
      "[NbConvertApp] Writing 695058 bytes to clusterer.html\n"
     ]
    }
   ],
   "source": [
    "!jupyter nbconvert --to html clusterer.ipynb"
   ]
  }
 ],
 "metadata": {
  "kernelspec": {
   "display_name": "Python 3",
   "language": "python",
   "name": "python3"
  },
  "language_info": {
   "codemirror_mode": {
    "name": "ipython",
    "version": 3
   },
   "file_extension": ".py",
   "mimetype": "text/x-python",
   "name": "python",
   "nbconvert_exporter": "python",
   "pygments_lexer": "ipython3",
   "version": "3.10.11"
  }
 },
 "nbformat": 4,
 "nbformat_minor": 2
}
