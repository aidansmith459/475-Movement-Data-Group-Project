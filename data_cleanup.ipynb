{
 "cells": [
  {
   "cell_type": "markdown",
   "metadata": {},
   "source": [
    "<h1> Cleaning Up Dataset For Clustering <h1>"
   ]
  },
  {
   "cell_type": "code",
   "execution_count": 1,
   "metadata": {},
   "outputs": [],
   "source": [
    "# import libraries needed\n",
    "import pandas as pd"
   ]
  },
  {
   "cell_type": "code",
   "execution_count": 2,
   "metadata": {},
   "outputs": [
    {
     "name": "stdout",
     "output_type": "stream",
     "text": [
      "                    datetime    id   longitude   latitude\n",
      "0        2020-01-01 00:00:00  I000 -122.335167  47.608013\n",
      "1        2020-01-01 00:01:07  I000 -122.335168  47.608002\n",
      "2        2020-01-01 00:02:30  I000 -122.335169  47.608598\n",
      "3        2020-01-01 00:03:40  I000 -122.335168  47.608501\n",
      "4        2020-01-01 00:05:07  I000 -122.335169  47.607648\n",
      "...                      ...   ...         ...        ...\n",
      "5260825  2029-12-31 23:56:32  I009 -122.409557  47.594471\n",
      "5260826  2029-12-31 23:57:38  I009 -122.409557  47.594432\n",
      "5260827  2029-12-31 23:58:09  I009 -122.409557  47.594305\n",
      "5260828  2029-12-31 23:59:20  I009 -122.409557  47.594445\n",
      "5260829  2030-01-01 00:00:32  I009 -122.409558  47.594986\n",
      "\n",
      "[5260830 rows x 4 columns]\n"
     ]
    }
   ],
   "source": [
    "# loading df using pandas\n",
    "movement_df = pd.read_csv(\"../DineOutSynthetic/movements.csv\")\n",
    "\n",
    "print(movement_df)"
   ]
  },
  {
   "cell_type": "code",
   "execution_count": 3,
   "metadata": {},
   "outputs": [
    {
     "name": "stdout",
     "output_type": "stream",
     "text": [
      "           id   longitude   latitude        date      time\n",
      "0        I000 -122.335167  47.608013  2020-01-01  00:00:00\n",
      "1        I000 -122.335168  47.608002  2020-01-01  00:01:07\n",
      "2        I000 -122.335169  47.608598  2020-01-01  00:02:30\n",
      "3        I000 -122.335168  47.608501  2020-01-01  00:03:40\n",
      "4        I000 -122.335169  47.607648  2020-01-01  00:05:07\n",
      "...       ...         ...        ...         ...       ...\n",
      "5260825  I009 -122.409557  47.594471  2029-12-31  23:56:32\n",
      "5260826  I009 -122.409557  47.594432  2029-12-31  23:57:38\n",
      "5260827  I009 -122.409557  47.594305  2029-12-31  23:58:09\n",
      "5260828  I009 -122.409557  47.594445  2029-12-31  23:59:20\n",
      "5260829  I009 -122.409558  47.594986  2030-01-01  00:00:32\n",
      "\n",
      "[5260830 rows x 5 columns]\n"
     ]
    }
   ],
   "source": [
    "# split the datetime column into two columns at the space\n",
    "movement_df[[\"date\", \"time\"]] = movement_df[\"datetime\"].str.split(\" \", expand=True)\n",
    "\n",
    "# remove the datetime column\n",
    "movement_df = movement_df.drop(\"datetime\", axis=1)\n",
    "\n",
    "print(movement_df)"
   ]
  },
  {
   "cell_type": "markdown",
   "metadata": {},
   "source": [
    "<h2> How accurate does lat long need to be? Can we round? </h2>\n",
    "<p> So, as you can see from the table below, a lat/long rounded up to a single decimal place can accurately identify a country or region, whereas rounded up to two could identify a large city or district. But five decimal places can accurately hone in on an individual tree, and six can identify a person. </p>\n",
    "<a> https://blis.com/precision-matters-critical-importance-decimal-places-five-lowest-go/ </a>\n",
    "<p> Therefore; we can round down to 4 if needed as it \"Can identify an individual street or parcel of land\" and has a distance of 11.1 meters. </p>"
   ]
  },
  {
   "cell_type": "code",
   "execution_count": 4,
   "metadata": {},
   "outputs": [
    {
     "name": "stdout",
     "output_type": "stream",
     "text": [
      "      longitude  latitude    date    time\n",
      "id                                       \n",
      "I000     526488    526488  526488  526488\n",
      "I001     526023    526023  526023  526023\n",
      "I002     525704    525704  525704  525704\n",
      "I003     526046    526046  526046  526046\n",
      "I004     526043    526043  526043  526043\n",
      "I005     526250    526250  526250  526250\n",
      "I006     525990    525990  525990  525990\n",
      "I007     526021    526021  526021  526021\n",
      "I008     526437    526437  526437  526437\n",
      "I009     525828    525828  525828  525828\n"
     ]
    }
   ],
   "source": [
    "# there's 10 different id's for data\n",
    "# making the assumption that every id corresponds to a different user, we are going to split the data into each respective user\n",
    "print(movement_df.groupby(\"id\").count())"
   ]
  },
  {
   "cell_type": "markdown",
   "metadata": {},
   "source": [
    "<p> <b>Findings:</b> There's 10 different users with id from 0-9. <p>"
   ]
  },
  {
   "cell_type": "code",
   "execution_count": 5,
   "metadata": {},
   "outputs": [
    {
     "name": "stdout",
     "output_type": "stream",
     "text": [
      "          id   longitude   latitude        date      time\n",
      "0       I000 -122.335167  47.608013  2020-01-01  00:00:00\n",
      "1       I000 -122.335168  47.608002  2020-01-01  00:01:07\n",
      "2       I000 -122.335169  47.608598  2020-01-01  00:02:30\n",
      "3       I000 -122.335168  47.608501  2020-01-01  00:03:40\n",
      "4       I000 -122.335169  47.607648  2020-01-01  00:05:07\n",
      "...      ...         ...        ...         ...       ...\n",
      "526483  I000 -122.426741  47.572358  2020-12-30  23:56:41\n",
      "526484  I000 -122.426741  47.572356  2020-12-30  23:57:14\n",
      "526485  I000 -122.426741  47.572213  2020-12-30  23:58:03\n",
      "526486  I000 -122.316388  47.618509  2020-12-30  23:59:13\n",
      "526487  I000 -122.316388  47.617609  2020-12-31  00:00:26\n",
      "\n",
      "[526488 rows x 5 columns]\n"
     ]
    }
   ],
   "source": [
    "# obtain id = I000\n",
    "user0_df = movement_df[movement_df[\"id\"] == \"I000\"]\n",
    "print(user0_df)"
   ]
  },
  {
   "cell_type": "code",
   "execution_count": 6,
   "metadata": {},
   "outputs": [
    {
     "name": "stdout",
     "output_type": "stream",
     "text": [
      "           id   longitude   latitude        date      time\n",
      "526488   I001 -122.335167  47.608013  2021-01-01  00:00:00\n",
      "526489   I001 -122.335167  47.608416  2021-01-01  00:00:34\n",
      "526490   I001 -122.335167  47.608363  2021-01-01  00:01:38\n",
      "526491   I001 -122.335167  47.608621  2021-01-01  00:02:23\n",
      "526492   I001 -122.335168  47.609453  2021-01-01  00:03:53\n",
      "...       ...         ...        ...         ...       ...\n",
      "1052506  I001 -122.283529  47.661327  2021-12-31  23:56:18\n",
      "1052507  I001 -122.283528  47.661337  2021-12-31  23:57:20\n",
      "1052508  I001 -122.283528  47.661537  2021-12-31  23:58:36\n",
      "1052509  I001 -122.283528  47.661027  2021-12-31  23:59:21\n",
      "1052510  I001 -122.333503  47.670401  2022-01-01  00:00:03\n",
      "\n",
      "[526023 rows x 5 columns]\n"
     ]
    }
   ],
   "source": [
    "# obtain id = I001\n",
    "user1_df = movement_df[movement_df[\"id\"] == \"I001\"]\n",
    "print(user1_df)"
   ]
  },
  {
   "cell_type": "code",
   "execution_count": 7,
   "metadata": {},
   "outputs": [
    {
     "name": "stdout",
     "output_type": "stream",
     "text": [
      "           id   longitude   latitude        date      time\n",
      "1052511  I002 -122.335167  47.608013  2022-01-01  00:00:00\n",
      "1052512  I002 -122.335166  47.608015  2022-01-01  00:00:59\n",
      "1052513  I002 -122.335166  47.607992  2022-01-01  00:01:40\n",
      "1052514  I002 -122.335166  47.607698  2022-01-01  00:03:06\n",
      "1052515  I002 -122.335167  47.608117  2022-01-01  00:04:18\n",
      "...       ...         ...        ...         ...       ...\n",
      "1578210  I002 -122.304818  47.606004  2022-12-31  23:56:55\n",
      "1578211  I002 -122.304818  47.606249  2022-12-31  23:57:37\n",
      "1578212  I002 -122.304818  47.606304  2022-12-31  23:58:20\n",
      "1578213  I002 -122.304817  47.605764  2022-12-31  23:59:26\n",
      "1578214  I002 -122.304817  47.605323  2023-01-01  00:00:32\n",
      "\n",
      "[525704 rows x 5 columns]\n"
     ]
    }
   ],
   "source": [
    "# obtain id = I002\n",
    "user2_df = movement_df[movement_df[\"id\"] == \"I002\"]\n",
    "print(user2_df)"
   ]
  },
  {
   "cell_type": "code",
   "execution_count": 8,
   "metadata": {},
   "outputs": [
    {
     "name": "stdout",
     "output_type": "stream",
     "text": [
      "           id   longitude   latitude        date      time\n",
      "1578215  I003 -122.335167  47.608013  2023-01-01  00:00:00\n",
      "1578216  I003 -122.335167  47.608032  2023-01-01  00:01:06\n",
      "1578217  I003 -122.335166  47.607914  2023-01-01  00:01:41\n",
      "1578218  I003 -122.335165  47.607619  2023-01-01  00:03:10\n",
      "1578219  I003 -122.335165  47.608035  2023-01-01  00:03:51\n",
      "...       ...         ...        ...         ...       ...\n",
      "2104256  I003 -122.306846  47.569950  2023-12-31  23:57:05\n",
      "2104257  I003 -122.306846  47.570213  2023-12-31  23:57:54\n",
      "2104258  I003 -122.306847  47.570342  2023-12-31  23:58:24\n",
      "2104259  I003 -122.306847  47.570434  2023-12-31  23:59:04\n",
      "2104260  I003 -122.306847  47.570633  2024-01-01  00:00:24\n",
      "\n",
      "[526046 rows x 5 columns]\n"
     ]
    }
   ],
   "source": [
    "# obtain id = I003\n",
    "user3_df = movement_df[movement_df[\"id\"] == \"I003\"]\n",
    "print(user3_df)"
   ]
  },
  {
   "cell_type": "code",
   "execution_count": 9,
   "metadata": {},
   "outputs": [
    {
     "name": "stdout",
     "output_type": "stream",
     "text": [
      "           id   longitude   latitude        date      time\n",
      "2104261  I004 -122.335167  47.608013  2024-01-01  00:00:00\n",
      "2104262  I004 -122.335168  47.608063  2024-01-01  00:01:20\n",
      "2104263  I004 -122.335168  47.608062  2024-01-01  00:02:08\n",
      "2104264  I004 -122.335167  47.608341  2024-01-01  00:03:20\n",
      "2104265  I004 -122.335167  47.608580  2024-01-01  00:04:06\n",
      "...       ...         ...        ...         ...       ...\n",
      "2630299  I004 -122.401520  47.609645  2024-12-30  23:56:16\n",
      "2630300  I004 -122.401520  47.609442  2024-12-30  23:57:38\n",
      "2630301  I004 -122.401520  47.609116  2024-12-30  23:58:24\n",
      "2630302  I004 -122.401522  47.609175  2024-12-30  23:59:25\n",
      "2630303  I004 -122.401522  47.608958  2024-12-31  00:00:26\n",
      "\n",
      "[526043 rows x 5 columns]\n"
     ]
    }
   ],
   "source": [
    "# obtain id = I004\n",
    "user4_df = movement_df[movement_df[\"id\"] == \"I004\"]\n",
    "print(user4_df)"
   ]
  },
  {
   "cell_type": "code",
   "execution_count": 10,
   "metadata": {},
   "outputs": [
    {
     "name": "stdout",
     "output_type": "stream",
     "text": [
      "           id   longitude   latitude        date      time\n",
      "2630304  I005 -122.335167  47.608013  2025-01-01  00:00:00\n",
      "2630305  I005 -122.335167  47.608048  2025-01-01  00:00:54\n",
      "2630306  I005 -122.335167  47.608114  2025-01-01  00:01:49\n",
      "2630307  I005 -122.335167  47.608522  2025-01-01  00:02:29\n",
      "2630308  I005 -122.335166  47.608717  2025-01-01  00:03:55\n",
      "...       ...         ...        ...         ...       ...\n",
      "3156549  I005 -122.310663  47.621918  2025-12-31  23:55:48\n",
      "3156550  I005 -122.310664  47.621088  2025-12-31  23:57:10\n",
      "3156551  I005 -122.310665  47.620794  2025-12-31  23:58:28\n",
      "3156552  I005 -122.409557  47.593025  2025-12-31  23:59:35\n",
      "3156553  I005 -122.310665  47.623651  2026-01-01  00:00:15\n",
      "\n",
      "[526250 rows x 5 columns]\n"
     ]
    }
   ],
   "source": [
    "# obtain id = I005\n",
    "user5_df = movement_df[movement_df[\"id\"] == \"I005\"]\n",
    "print(user5_df)"
   ]
  },
  {
   "cell_type": "code",
   "execution_count": 11,
   "metadata": {},
   "outputs": [
    {
     "name": "stdout",
     "output_type": "stream",
     "text": [
      "           id   longitude   latitude        date      time\n",
      "3156554  I006 -122.335167  47.608013  2026-01-01  00:00:00\n",
      "3156555  I006 -122.374718  47.593698  2026-01-01  00:00:58\n",
      "3156556  I006 -122.374718  47.593699  2026-01-01  00:01:46\n",
      "3156557  I006 -122.374718  47.593374  2026-01-01  00:02:52\n",
      "3156558  I006 -122.374719  47.593362  2026-01-01  00:03:31\n",
      "...       ...         ...        ...         ...       ...\n",
      "3682539  I006 -122.374717  47.594371  2026-12-31  23:55:55\n",
      "3682540  I006 -122.374716  47.594714  2026-12-31  23:56:54\n",
      "3682541  I006 -122.374716  47.594682  2026-12-31  23:57:45\n",
      "3682542  I006 -122.374716  47.594417  2026-12-31  23:58:37\n",
      "3682543  I006 -122.374715  47.594027  2027-01-01  00:00:04\n",
      "\n",
      "[525990 rows x 5 columns]\n"
     ]
    }
   ],
   "source": [
    "# obtain id = I006\n",
    "user6_df = movement_df[movement_df[\"id\"] == \"I006\"]\n",
    "print(user6_df)"
   ]
  },
  {
   "cell_type": "code",
   "execution_count": 12,
   "metadata": {},
   "outputs": [
    {
     "name": "stdout",
     "output_type": "stream",
     "text": [
      "           id   longitude   latitude        date      time\n",
      "3682544  I007 -122.335167  47.608013  2027-01-01  00:00:00\n",
      "3682545  I007 -122.335167  47.608077  2027-01-01  00:00:30\n",
      "3682546  I007 -122.335168  47.608177  2027-01-01  00:01:06\n",
      "3682547  I007 -122.335168  47.608712  2027-01-01  00:02:22\n",
      "3682548  I007 -122.335168  47.608730  2027-01-01  00:03:21\n",
      "...       ...         ...        ...         ...       ...\n",
      "4208560  I007 -122.310666  47.624261  2027-12-31  23:58:01\n",
      "4208561  I007 -122.310666  47.624190  2027-12-31  23:58:35\n",
      "4208562  I007 -122.310666  47.624302  2027-12-31  23:59:16\n",
      "4208563  I007 -122.310666  47.624187  2027-12-31  23:59:53\n",
      "4208564  I007 -122.310666  47.624286  2028-01-01  00:00:49\n",
      "\n",
      "[526021 rows x 5 columns]\n"
     ]
    }
   ],
   "source": [
    "# obtain id = I007\n",
    "user7_df = movement_df[movement_df[\"id\"] == \"I007\"]\n",
    "print(user7_df)"
   ]
  },
  {
   "cell_type": "code",
   "execution_count": 13,
   "metadata": {},
   "outputs": [
    {
     "name": "stdout",
     "output_type": "stream",
     "text": [
      "           id   longitude   latitude        date      time\n",
      "4208565  I008 -122.335167  47.608013  2028-01-01  00:00:00\n",
      "4208566  I008 -122.335167  47.608116  2028-01-01  00:01:30\n",
      "4208567  I008 -122.426740  47.572239  2028-01-01  00:02:08\n",
      "4208568  I008 -122.426740  47.571909  2028-01-01  00:03:10\n",
      "4208569  I008 -122.426739  47.571937  2028-01-01  00:03:57\n",
      "...       ...         ...        ...         ...       ...\n",
      "4734997  I008 -122.371733  47.688565  2028-12-30  23:56:21\n",
      "4734998  I008 -122.374718  47.593698  2028-12-30  23:57:14\n",
      "4734999  I008 -122.374718  47.594285  2028-12-30  23:58:40\n",
      "4735000  I008 -122.374718  47.594167  2028-12-30  23:59:22\n",
      "4735001  I008 -122.283529  47.660922  2028-12-31  00:00:38\n",
      "\n",
      "[526437 rows x 5 columns]\n"
     ]
    }
   ],
   "source": [
    "# obtain id = I008\n",
    "user8_df = movement_df[movement_df[\"id\"] == \"I008\"]\n",
    "print(user8_df)"
   ]
  },
  {
   "cell_type": "code",
   "execution_count": 14,
   "metadata": {},
   "outputs": [
    {
     "name": "stdout",
     "output_type": "stream",
     "text": [
      "           id   longitude   latitude        date      time\n",
      "4735002  I009 -122.335167  47.608013  2029-01-01  00:00:00\n",
      "4735003  I009 -122.335167  47.607939  2029-01-01  00:00:55\n",
      "4735004  I009 -122.335167  47.608053  2029-01-01  00:02:09\n",
      "4735005  I009 -122.335167  47.608076  2029-01-01  00:03:20\n",
      "4735006  I009 -122.335167  47.608227  2029-01-01  00:03:51\n",
      "...       ...         ...        ...         ...       ...\n",
      "5260825  I009 -122.409557  47.594471  2029-12-31  23:56:32\n",
      "5260826  I009 -122.409557  47.594432  2029-12-31  23:57:38\n",
      "5260827  I009 -122.409557  47.594305  2029-12-31  23:58:09\n",
      "5260828  I009 -122.409557  47.594445  2029-12-31  23:59:20\n",
      "5260829  I009 -122.409558  47.594986  2030-01-01  00:00:32\n",
      "\n",
      "[525828 rows x 5 columns]\n"
     ]
    }
   ],
   "source": [
    "# obtain id = I009\n",
    "user9_df = movement_df[movement_df[\"id\"] == \"I009\"]\n",
    "print(user9_df)"
   ]
  },
  {
   "cell_type": "code",
   "execution_count": 15,
   "metadata": {},
   "outputs": [],
   "source": [
    "# write clean data into separate csv files\n",
    "# this step will provide us with an easy way to access the separated data whether in R or Python and will get around the Github file size restriction.\n",
    "\n",
    "user0_df.to_csv(\"./CleanData/movements_0.csv\", index=False)\n",
    "user1_df.to_csv(\"./CleanData/movements_1.csv\", index=False)\n",
    "user2_df.to_csv(\"./CleanData/movements_2.csv\", index=False)\n",
    "user3_df.to_csv(\"./CleanData/movements_3.csv\", index=False)\n",
    "user4_df.to_csv(\"./CleanData/movements_4.csv\", index=False)\n",
    "user5_df.to_csv(\"./CleanData/movements_5.csv\", index=False)\n",
    "user6_df.to_csv(\"./CleanData/movements_6.csv\", index=False)\n",
    "user7_df.to_csv(\"./CleanData/movements_7.csv\", index=False)\n",
    "user8_df.to_csv(\"./CleanData/movements_8.csv\", index=False)\n",
    "user9_df.to_csv(\"./CleanData/movements_9.csv\", index=False)"
   ]
  }
 ],
 "metadata": {
  "kernelspec": {
   "display_name": "Python 3",
   "language": "python",
   "name": "python3"
  },
  "language_info": {
   "codemirror_mode": {
    "name": "ipython",
    "version": 3
   },
   "file_extension": ".py",
   "mimetype": "text/x-python",
   "name": "python",
   "nbconvert_exporter": "python",
   "pygments_lexer": "ipython3",
   "version": "3.10.11"
  }
 },
 "nbformat": 4,
 "nbformat_minor": 2
}
